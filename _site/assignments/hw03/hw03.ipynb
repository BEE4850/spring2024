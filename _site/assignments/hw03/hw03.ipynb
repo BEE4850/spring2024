{
  "cells": [
    {
      "cell_type": "markdown",
      "metadata": {},
      "source": [
        "# Homework 3: Bayesian Models and Monte Carlo\n",
        "\n",
        "BEE 4850/5850, Spring 2025\n",
        "\n",
        "**Name**:\n",
        "\n",
        "**ID**:\n",
        "\n",
        "> **Due Date**\n",
        ">\n",
        "> Friday, 3/14/25, 9:00pm\n",
        "\n",
        "## Overview"
      ],
      "id": "a04253d1-fb7a-4ace-b2b2-e97f5d3044a1"
    },
    {
      "cell_type": "markdown",
      "metadata": {},
      "source": [
        "### Instructions\n",
        "\n",
        "The goal of this homework assignment is to practice developing and\n",
        "working with probability models for data.\n",
        "\n",
        "-   Problem 1 asks you to quantify uncertainties for a simple model\n",
        "    using Bayesian statistics and rejection sampling.\n",
        "-   Problem 2 asks you to use Monte Carlo simulation to calculate annual\n",
        "    expected flooding damages.\n",
        "-   Problem 3 (only required for students in BEE 5850) asks you to\n",
        "    conduct cost-benefit analyses of housing elevation levels under\n",
        "    future flooding uncertainty using Monte Carlo simulations."
      ],
      "id": "04dcf49c-61c8-425e-bb50-0755786fa2cb"
    },
    {
      "cell_type": "markdown",
      "metadata": {},
      "source": [
        "### Load Environment\n",
        "\n",
        "The following code loads the environment and makes sure all needed\n",
        "packages are installed. This should be at the start of most Julia\n",
        "scripts."
      ],
      "id": "be3cf151-23c2-4ac6-9386-5fb7e450048b"
    },
    {
      "cell_type": "code",
      "execution_count": 1,
      "metadata": {},
      "outputs": [],
      "source": [
        "import Pkg\n",
        "Pkg.activate(@__DIR__)\n",
        "Pkg.instantiate()"
      ],
      "id": "2"
    },
    {
      "cell_type": "markdown",
      "metadata": {},
      "source": [
        "The following packages are included in the environment (to help you find\n",
        "other similar packages in other languages). The code below loads these\n",
        "packages for use in the subsequent notebook (the desired functionality\n",
        "for each package is commented next to the package)."
      ],
      "id": "6e841290-a14c-4723-b4db-b8cf3f870b50"
    },
    {
      "cell_type": "code",
      "execution_count": 1,
      "metadata": {},
      "outputs": [],
      "source": [
        "using Random # random number generation and seed-setting\n",
        "using DataFrames # tabular data structure\n",
        "using CSV # reads/writes .csv files\n",
        "using Distributions # interface to work with probability distributions\n",
        "using Plots # plotting library\n",
        "using StatsBase # statistical quantities like mean, median, etc\n",
        "using StatsPlots # some additional statistical plotting tools\n",
        "using Optim # optimization tools"
      ],
      "id": "4"
    },
    {
      "cell_type": "markdown",
      "metadata": {},
      "source": [
        "## Problems\n",
        "\n",
        "### Scoring\n",
        "\n",
        "-   Problem 1 is worth 13 points.\n",
        "-   Problem 2 is worth 7 points.\n",
        "-   Problem 3 is worth 5 points.\n",
        "\n",
        "### Problem 1"
      ],
      "id": "2d5600e7-5bc6-4e79-8475-f46b13db1a1d"
    },
    {
      "cell_type": "markdown",
      "metadata": {},
      "source": [
        "Consider the class-cheating testing procedure from [Homework\n",
        "1](https://viveks.me/simulation-data-analysis/hw/hw01.html). As a\n",
        "reminder, the procedure is as follows:\n",
        "\n",
        "> Each student flips a fair coin, with the results hidden from the\n",
        "> interviewer. The student answers honestly if the coin comes up heads.\n",
        "> Otherwise, if the coin comes up tails, the student flips the coin\n",
        "> again, and answers “I did cheat” if heads, and “I did not cheat”, if\n",
        "> tails.\n",
        "\n",
        "Suppose that, after conducting the procedure on your class of 100\n",
        "students, you get 40 “Yes, I cheated” responses. You are skeptical that\n",
        "your class is broadly engaged in cheating and have a prior belief that\n",
        "the probability of cheating $\\theta$ is unlikely to be high. We’ll\n",
        "express this prior using a beta distribution, \\$(3, 40), which is shown\n",
        "below. You would like to understand the range of cheating propensity\n",
        "which is consistent with your prior beliefs and the outcomes from the\n",
        "detection procedure."
      ],
      "id": "750ef519-b4bf-432d-abef-056dfd11697a"
    },
    {
      "cell_type": "code",
      "execution_count": 1,
      "metadata": {},
      "outputs": [],
      "source": [],
      "id": "cell-fig-p1-prior"
    },
    {
      "cell_type": "markdown",
      "metadata": {},
      "source": [
        "**In this problem**:\n",
        "\n",
        "-   Construct a Bayesian probability model (based on the data-generating\n",
        "    process from Homework 1 and our prior on the cheating probability)\n",
        "    for the “Yes, I cheated” counts. You can compute the likelihood\n",
        "    based on the combination of the fair coin flip and the “true”\n",
        "    cheating probability $\\theta$.\n",
        "-   Plot the posterior $p(\\theta | y)$ using a grid approximation\n",
        "    (looping over values of $\\theta$).\n",
        "-   Use rejection sampling to draw 1,000 samples from the posterior and\n",
        "    plot the distribution of samples. How well are you capturing the\n",
        "    posterior you obtained from the grid approximation? Would you prefer\n",
        "    to have more samples?\n",
        "-   Report the expected value of $\\theta$ and its 90% credible interval.\n",
        "    What conclusions can you draw about cheating probability and whether\n",
        "    your belief in your class was warranted? How much uncertainty exists\n",
        "    as a result of this privacy-protecting procedure?\n",
        "-   Repeat the analysis with a less constrained prior of your choosing.\n",
        "    How does that change your inferences and conclusions? What does this\n",
        "    tell you about the effectiveness of the procedure?\n",
        "\n",
        "### Problem 2"
      ],
      "id": "e5b371ba-05ca-4346-8c37-89d8d50c59af"
    },
    {
      "cell_type": "markdown",
      "metadata": {},
      "source": [
        "You have been asked by a client to assess the risks of flooding to their\n",
        "home (which is valued at \\$400,000 and only floods when the stream water\n",
        "levels exceed 1.5m). They would like to know the probability\n",
        "distribution of annual flood damages to their home if they do not take\n",
        "any preventative floodproofing measures. After some hydrologic analysis,\n",
        "you have developed a 40-year record of annual maximum water levels (in\n",
        "m) at the nearby stream.\n",
        "\n",
        "You also have a depth-damage function for the fraction of the home’s\n",
        "value which is damaged at varying flood depths:\n",
        "\n",
        "$$d(h) = \\mathbb{I}[h > 0] \\frac{1}{1+\\exp(-k(x-x_0))},$$\n",
        "\n",
        "where $k=1.25$ and $x_0=2$[1]. The graph of this function is given in\n",
        "the figure below.\n",
        "\n",
        "[1] As a reminder, the indicator function $\\mathbb{I}[h > 0]$ is $0$\n",
        "when the condition is not satisfied (in this case, when $h=0$) and $1$\n",
        "when it is satisfied."
      ],
      "id": "2a2e3807-205c-4748-b8c6-7c518fa4c9e4"
    },
    {
      "cell_type": "code",
      "execution_count": 1,
      "metadata": {},
      "outputs": [
        {
          "output_type": "display_data",
          "metadata": {},
          "data": {
            "text/html": [
              "<?xml version=\"1.0\" encoding=\"utf-8\"?>\n",
              "<svg xmlns=\"http://www.w3.org/2000/svg\" xmlns:xlink=\"http://www.w3.org/1999/xlink\" width=\"672\" height=\"480\" viewBox=\"0 0 2688 1920\">\n",
              "<defs>\n",
              "  <clipPath id=\"clip270\">\n",
              "    <rect x=\"0\" y=\"0\" width=\"2688\" height=\"1920\"/>\n",
              "  </clipPath>\n",
              "</defs>\n",
              "<path clip-path=\"url(#clip270)\" d=\"M0 1920 L2688 1920 L2688 -4.26326e-14 L0 -4.26326e-14  Z\" fill=\"#ffffff\" fill-rule=\"evenodd\" fill-opacity=\"1\"/>\n",
              "<defs>\n",
              "  <clipPath id=\"clip271\">\n",
              "    <rect x=\"537\" y=\"0\" width=\"1883\" height=\"1883\"/>\n",
              "  </clipPath>\n",
              "</defs>\n",
              "<path clip-path=\"url(#clip270)\" d=\"M226.141 1734.12 L2640.76 1734.12 L2640.76 47.2441 L226.141 47.2441  Z\" fill=\"#ffffff\" fill-rule=\"evenodd\" fill-opacity=\"1\"/>\n",
              "<defs>\n",
              "  <clipPath id=\"clip272\">\n",
              "    <rect x=\"226\" y=\"47\" width=\"2416\" height=\"1688\"/>\n",
              "  </clipPath>\n",
              "</defs>\n",
              "<polyline clip-path=\"url(#clip272)\" style=\"stroke:#000000; stroke-linecap:round; stroke-linejoin:round; stroke-width:2; stroke-opacity:0.1; fill:none\" points=\"294.479,1734.12 294.479,47.2441 \"/>\n",
              "<polyline clip-path=\"url(#clip272)\" style=\"stroke:#000000; stroke-linecap:round; stroke-linejoin:round; stroke-width:2; stroke-opacity:0.1; fill:none\" points=\"750.067,1734.12 750.067,47.2441 \"/>\n",
              "<polyline clip-path=\"url(#clip272)\" style=\"stroke:#000000; stroke-linecap:round; stroke-linejoin:round; stroke-width:2; stroke-opacity:0.1; fill:none\" points=\"1205.65,1734.12 1205.65,47.2441 \"/>\n",
              "<polyline clip-path=\"url(#clip272)\" style=\"stroke:#000000; stroke-linecap:round; stroke-linejoin:round; stroke-width:2; stroke-opacity:0.1; fill:none\" points=\"1661.24,1734.12 1661.24,47.2441 \"/>\n",
              "<polyline clip-path=\"url(#clip272)\" style=\"stroke:#000000; stroke-linecap:round; stroke-linejoin:round; stroke-width:2; stroke-opacity:0.1; fill:none\" points=\"2116.83,1734.12 2116.83,47.2441 \"/>\n",
              "<polyline clip-path=\"url(#clip272)\" style=\"stroke:#000000; stroke-linecap:round; stroke-linejoin:round; stroke-width:2; stroke-opacity:0.1; fill:none\" points=\"2572.42,1734.12 2572.42,47.2441 \"/>\n",
              "<polyline clip-path=\"url(#clip272)\" style=\"stroke:#000000; stroke-linecap:round; stroke-linejoin:round; stroke-width:2; stroke-opacity:0.1; fill:none\" points=\"226.141,1734.12 2640.76,1734.12 \"/>\n",
              "<polyline clip-path=\"url(#clip272)\" style=\"stroke:#000000; stroke-linecap:round; stroke-linejoin:round; stroke-width:2; stroke-opacity:0.1; fill:none\" points=\"226.141,1396.74 2640.76,1396.74 \"/>\n",
              "<polyline clip-path=\"url(#clip272)\" style=\"stroke:#000000; stroke-linecap:round; stroke-linejoin:round; stroke-width:2; stroke-opacity:0.1; fill:none\" points=\"226.141,1059.37 2640.76,1059.37 \"/>\n",
              "<polyline clip-path=\"url(#clip272)\" style=\"stroke:#000000; stroke-linecap:round; stroke-linejoin:round; stroke-width:2; stroke-opacity:0.1; fill:none\" points=\"226.141,721.993 2640.76,721.993 \"/>\n",
              "<polyline clip-path=\"url(#clip272)\" style=\"stroke:#000000; stroke-linecap:round; stroke-linejoin:round; stroke-width:2; stroke-opacity:0.1; fill:none\" points=\"226.141,384.619 2640.76,384.619 \"/>\n",
              "<polyline clip-path=\"url(#clip272)\" style=\"stroke:#000000; stroke-linecap:round; stroke-linejoin:round; stroke-width:2; stroke-opacity:0.1; fill:none\" points=\"226.141,47.2441 2640.76,47.2441 \"/>\n",
              "<polyline clip-path=\"url(#clip270)\" style=\"stroke:#000000; stroke-linecap:round; stroke-linejoin:round; stroke-width:4; stroke-opacity:1; fill:none\" points=\"226.141,1734.12 2640.76,1734.12 \"/>\n",
              "<polyline clip-path=\"url(#clip270)\" style=\"stroke:#000000; stroke-linecap:round; stroke-linejoin:round; stroke-width:4; stroke-opacity:1; fill:none\" points=\"294.479,1734.12 294.479,1715.22 \"/>\n",
              "<polyline clip-path=\"url(#clip270)\" style=\"stroke:#000000; stroke-linecap:round; stroke-linejoin:round; stroke-width:4; stroke-opacity:1; fill:none\" points=\"750.067,1734.12 750.067,1715.22 \"/>\n",
              "<polyline clip-path=\"url(#clip270)\" style=\"stroke:#000000; stroke-linecap:round; stroke-linejoin:round; stroke-width:4; stroke-opacity:1; fill:none\" points=\"1205.65,1734.12 1205.65,1715.22 \"/>\n",
              "<polyline clip-path=\"url(#clip270)\" style=\"stroke:#000000; stroke-linecap:round; stroke-linejoin:round; stroke-width:4; stroke-opacity:1; fill:none\" points=\"1661.24,1734.12 1661.24,1715.22 \"/>\n",
              "<polyline clip-path=\"url(#clip270)\" style=\"stroke:#000000; stroke-linecap:round; stroke-linejoin:round; stroke-width:4; stroke-opacity:1; fill:none\" points=\"2116.83,1734.12 2116.83,1715.22 \"/>\n",
              "<polyline clip-path=\"url(#clip270)\" style=\"stroke:#000000; stroke-linecap:round; stroke-linejoin:round; stroke-width:4; stroke-opacity:1; fill:none\" points=\"2572.42,1734.12 2572.42,1715.22 \"/>\n",
              "<path clip-path=\"url(#clip270)\" d=\"M294.479 1767.34 Q290.868 1767.34 289.039 1770.9 Q287.233 1774.45 287.233 1781.58 Q287.233 1788.68 289.039 1792.25 Q290.868 1795.79 294.479 1795.79 Q298.113 1795.79 299.919 1792.25 Q301.747 1788.68 301.747 1781.58 Q301.747 1774.45 299.919 1770.9 Q298.113 1767.34 294.479 1767.34 M294.479 1763.64 Q300.289 1763.64 303.344 1768.24 Q306.423 1772.83 306.423 1781.58 Q306.423 1790.3 303.344 1794.91 Q300.289 1799.49 294.479 1799.49 Q288.669 1799.49 285.59 1794.91 Q282.534 1790.3 282.534 1781.58 Q282.534 1772.83 285.59 1768.24 Q288.669 1763.64 294.479 1763.64 Z\" fill=\"#000000\" fill-rule=\"nonzero\" fill-opacity=\"1\" /><path clip-path=\"url(#clip270)\" d=\"M740.449 1794.89 L748.087 1794.89 L748.087 1768.52 L739.777 1770.19 L739.777 1765.93 L748.041 1764.26 L752.717 1764.26 L752.717 1794.89 L760.356 1794.89 L760.356 1798.82 L740.449 1798.82 L740.449 1794.89 Z\" fill=\"#000000\" fill-rule=\"nonzero\" fill-opacity=\"1\" /><path clip-path=\"url(#clip270)\" d=\"M1200.31 1794.89 L1216.63 1794.89 L1216.63 1798.82 L1194.68 1798.82 L1194.68 1794.89 Q1197.34 1792.13 1201.93 1787.5 Q1206.53 1782.85 1207.71 1781.51 Q1209.96 1778.98 1210.84 1777.25 Q1211.74 1775.49 1211.74 1773.8 Q1211.74 1771.04 1209.8 1769.31 Q1207.88 1767.57 1204.77 1767.57 Q1202.58 1767.57 1200.12 1768.34 Q1197.69 1769.1 1194.91 1770.65 L1194.91 1765.93 Q1197.74 1764.79 1200.19 1764.21 Q1202.65 1763.64 1204.68 1763.64 Q1210.05 1763.64 1213.25 1766.32 Q1216.44 1769.01 1216.44 1773.5 Q1216.44 1775.63 1215.63 1777.55 Q1214.84 1779.45 1212.74 1782.04 Q1212.16 1782.71 1209.06 1785.93 Q1205.96 1789.12 1200.31 1794.89 Z\" fill=\"#000000\" fill-rule=\"nonzero\" fill-opacity=\"1\" /><path clip-path=\"url(#clip270)\" d=\"M1665.49 1780.19 Q1668.85 1780.9 1670.72 1783.17 Q1672.62 1785.44 1672.62 1788.77 Q1672.62 1793.89 1669.1 1796.69 Q1665.58 1799.49 1659.1 1799.49 Q1656.93 1799.49 1654.61 1799.05 Q1652.32 1798.64 1649.86 1797.78 L1649.86 1793.27 Q1651.81 1794.4 1654.12 1794.98 Q1656.44 1795.56 1658.96 1795.56 Q1663.36 1795.56 1665.65 1793.82 Q1667.97 1792.08 1667.97 1788.77 Q1667.97 1785.72 1665.81 1784.01 Q1663.68 1782.27 1659.86 1782.27 L1655.84 1782.27 L1655.84 1778.43 L1660.05 1778.43 Q1663.5 1778.43 1665.33 1777.06 Q1667.16 1775.67 1667.16 1773.08 Q1667.16 1770.42 1665.26 1769.01 Q1663.38 1767.57 1659.86 1767.57 Q1657.94 1767.57 1655.74 1767.99 Q1653.55 1768.4 1650.91 1769.28 L1650.91 1765.12 Q1653.57 1764.38 1655.88 1764.01 Q1658.22 1763.64 1660.28 1763.64 Q1665.61 1763.64 1668.71 1766.07 Q1671.81 1768.47 1671.81 1772.59 Q1671.81 1775.46 1670.17 1777.46 Q1668.52 1779.42 1665.49 1780.19 Z\" fill=\"#000000\" fill-rule=\"nonzero\" fill-opacity=\"1\" /><path clip-path=\"url(#clip270)\" d=\"M2119.84 1768.34 L2108.03 1786.78 L2119.84 1786.78 L2119.84 1768.34 M2118.61 1764.26 L2124.49 1764.26 L2124.49 1786.78 L2129.42 1786.78 L2129.42 1790.67 L2124.49 1790.67 L2124.49 1798.82 L2119.84 1798.82 L2119.84 1790.67 L2104.24 1790.67 L2104.24 1786.16 L2118.61 1764.26 Z\" fill=\"#000000\" fill-rule=\"nonzero\" fill-opacity=\"1\" /><path clip-path=\"url(#clip270)\" d=\"M2562.7 1764.26 L2581.05 1764.26 L2581.05 1768.2 L2566.98 1768.2 L2566.98 1776.67 Q2568 1776.32 2569.01 1776.16 Q2570.03 1775.97 2571.05 1775.97 Q2576.84 1775.97 2580.22 1779.15 Q2583.6 1782.32 2583.6 1787.73 Q2583.6 1793.31 2580.13 1796.41 Q2576.65 1799.49 2570.33 1799.49 Q2568.16 1799.49 2565.89 1799.12 Q2563.64 1798.75 2561.24 1798.01 L2561.24 1793.31 Q2563.32 1794.45 2565.54 1795 Q2567.76 1795.56 2570.24 1795.56 Q2574.25 1795.56 2576.58 1793.45 Q2578.92 1791.34 2578.92 1787.73 Q2578.92 1784.12 2576.58 1782.02 Q2574.25 1779.91 2570.24 1779.91 Q2568.37 1779.91 2566.49 1780.33 Q2564.64 1780.74 2562.7 1781.62 L2562.7 1764.26 Z\" fill=\"#000000\" fill-rule=\"nonzero\" fill-opacity=\"1\" /><path clip-path=\"url(#clip270)\" d=\"M809.8 1835.78 L837.109 1835.78 L837.109 1841.19 L816.229 1841.19 L816.229 1855.2 L835.072 1855.2 L835.072 1860.61 L816.229 1860.61 L816.229 1883.3 L809.8 1883.3 L809.8 1835.78 Z\" fill=\"#000000\" fill-rule=\"nonzero\" fill-opacity=\"1\" /><path clip-path=\"url(#clip270)\" d=\"M847.039 1833.78 L852.896 1833.78 L852.896 1883.3 L847.039 1883.3 L847.039 1833.78 Z\" fill=\"#000000\" fill-rule=\"nonzero\" fill-opacity=\"1\" /><path clip-path=\"url(#clip270)\" d=\"M878.963 1851.76 Q874.253 1851.76 871.515 1855.45 Q868.778 1859.11 868.778 1865.51 Q868.778 1871.91 871.484 1875.6 Q874.221 1879.26 878.963 1879.26 Q883.642 1879.26 886.379 1875.57 Q889.117 1871.87 889.117 1865.51 Q889.117 1859.17 886.379 1855.48 Q883.642 1851.76 878.963 1851.76 M878.963 1846.79 Q886.602 1846.79 890.963 1851.76 Q895.323 1856.72 895.323 1865.51 Q895.323 1874.26 890.963 1879.26 Q886.602 1884.22 878.963 1884.22 Q871.293 1884.22 866.932 1879.26 Q862.603 1874.26 862.603 1865.51 Q862.603 1856.72 866.932 1851.76 Q871.293 1846.79 878.963 1846.79 Z\" fill=\"#000000\" fill-rule=\"nonzero\" fill-opacity=\"1\" /><path clip-path=\"url(#clip270)\" d=\"M918.845 1851.76 Q914.134 1851.76 911.397 1855.45 Q908.659 1859.11 908.659 1865.51 Q908.659 1871.91 911.365 1875.6 Q914.102 1879.26 918.845 1879.26 Q923.523 1879.26 926.261 1875.57 Q928.998 1871.87 928.998 1865.51 Q928.998 1859.17 926.261 1855.48 Q923.523 1851.76 918.845 1851.76 M918.845 1846.79 Q926.483 1846.79 930.844 1851.76 Q935.204 1856.72 935.204 1865.51 Q935.204 1874.26 930.844 1879.26 Q926.483 1884.22 918.845 1884.22 Q911.174 1884.22 906.813 1879.26 Q902.485 1874.26 902.485 1865.51 Q902.485 1856.72 906.813 1851.76 Q911.174 1846.79 918.845 1846.79 Z\" fill=\"#000000\" fill-rule=\"nonzero\" fill-opacity=\"1\" /><path clip-path=\"url(#clip270)\" d=\"M968.37 1853.06 L968.37 1833.78 L974.226 1833.78 L974.226 1883.3 L968.37 1883.3 L968.37 1877.95 Q966.524 1881.14 963.691 1882.7 Q960.89 1884.22 956.943 1884.22 Q950.482 1884.22 946.408 1879.07 Q942.366 1873.91 942.366 1865.51 Q942.366 1857.11 946.408 1851.95 Q950.482 1846.79 956.943 1846.79 Q960.89 1846.79 963.691 1848.35 Q966.524 1849.88 968.37 1853.06 M948.413 1865.51 Q948.413 1871.97 951.055 1875.66 Q953.729 1879.32 958.376 1879.32 Q963.023 1879.32 965.696 1875.66 Q968.37 1871.97 968.37 1865.51 Q968.37 1859.05 965.696 1855.39 Q963.023 1851.7 958.376 1851.7 Q953.729 1851.7 951.055 1855.39 Q948.413 1859.05 948.413 1865.51 Z\" fill=\"#000000\" fill-rule=\"nonzero\" fill-opacity=\"1\" /><path clip-path=\"url(#clip270)\" d=\"M1013.69 1841.06 L1013.69 1878.02 L1021.46 1878.02 Q1031.29 1878.02 1035.85 1873.56 Q1040.43 1869.11 1040.43 1859.49 Q1040.43 1849.94 1035.85 1845.52 Q1031.29 1841.06 1021.46 1841.06 L1013.69 1841.06 M1007.26 1835.78 L1020.47 1835.78 Q1034.29 1835.78 1040.75 1841.54 Q1047.21 1847.27 1047.21 1859.49 Q1047.21 1871.78 1040.72 1877.54 Q1034.22 1883.3 1020.47 1883.3 L1007.26 1883.3 L1007.26 1835.78 Z\" fill=\"#000000\" fill-rule=\"nonzero\" fill-opacity=\"1\" /><path clip-path=\"url(#clip270)\" d=\"M1087.69 1864.01 L1087.69 1866.88 L1060.77 1866.88 Q1061.15 1872.92 1064.4 1876.11 Q1067.67 1879.26 1073.5 1879.26 Q1076.87 1879.26 1080.02 1878.43 Q1083.21 1877.6 1086.33 1875.95 L1086.33 1881.49 Q1083.18 1882.82 1079.87 1883.52 Q1076.55 1884.22 1073.15 1884.22 Q1064.62 1884.22 1059.62 1879.26 Q1054.66 1874.29 1054.66 1865.83 Q1054.66 1857.07 1059.37 1851.95 Q1064.11 1846.79 1072.13 1846.79 Q1079.32 1846.79 1083.49 1851.44 Q1087.69 1856.06 1087.69 1864.01 M1081.84 1862.29 Q1081.77 1857.49 1079.13 1854.62 Q1076.52 1851.76 1072.19 1851.76 Q1067.29 1851.76 1064.33 1854.53 Q1061.4 1857.3 1060.96 1862.33 L1081.84 1862.29 Z\" fill=\"#000000\" fill-rule=\"nonzero\" fill-opacity=\"1\" /><path clip-path=\"url(#clip270)\" d=\"M1102.97 1877.95 L1102.97 1896.86 L1097.08 1896.86 L1097.08 1847.65 L1102.97 1847.65 L1102.97 1853.06 Q1104.82 1849.88 1107.62 1848.35 Q1110.45 1846.79 1114.37 1846.79 Q1120.86 1846.79 1124.9 1851.95 Q1128.98 1857.11 1128.98 1865.51 Q1128.98 1873.91 1124.9 1879.07 Q1120.86 1884.22 1114.37 1884.22 Q1110.45 1884.22 1107.62 1882.7 Q1104.82 1881.14 1102.97 1877.95 M1122.9 1865.51 Q1122.9 1859.05 1120.22 1855.39 Q1117.58 1851.7 1112.93 1851.7 Q1108.29 1851.7 1105.61 1855.39 Q1102.97 1859.05 1102.97 1865.51 Q1102.97 1871.97 1105.61 1875.66 Q1108.29 1879.32 1112.93 1879.32 Q1117.58 1879.32 1120.22 1875.66 Q1122.9 1871.97 1122.9 1865.51 Z\" fill=\"#000000\" fill-rule=\"nonzero\" fill-opacity=\"1\" /><path clip-path=\"url(#clip270)\" d=\"M1144.48 1837.53 L1144.48 1847.65 L1156.54 1847.65 L1156.54 1852.2 L1144.48 1852.2 L1144.48 1871.56 Q1144.48 1875.92 1145.65 1877.16 Q1146.86 1878.4 1150.52 1878.4 L1156.54 1878.4 L1156.54 1883.3 L1150.52 1883.3 Q1143.74 1883.3 1141.17 1880.79 Q1138.59 1878.24 1138.59 1871.56 L1138.59 1852.2 L1134.29 1852.2 L1134.29 1847.65 L1138.59 1847.65 L1138.59 1837.53 L1144.48 1837.53 Z\" fill=\"#000000\" fill-rule=\"nonzero\" fill-opacity=\"1\" /><path clip-path=\"url(#clip270)\" d=\"M1193.87 1861.78 L1193.87 1883.3 L1188.02 1883.3 L1188.02 1861.98 Q1188.02 1856.92 1186.05 1854.4 Q1184.07 1851.89 1180.12 1851.89 Q1175.38 1851.89 1172.65 1854.91 Q1169.91 1857.93 1169.91 1863.15 L1169.91 1883.3 L1164.02 1883.3 L1164.02 1833.78 L1169.91 1833.78 L1169.91 1853.19 Q1172.01 1849.98 1174.84 1848.39 Q1177.71 1846.79 1181.43 1846.79 Q1187.57 1846.79 1190.72 1850.61 Q1193.87 1854.4 1193.87 1861.78 Z\" fill=\"#000000\" fill-rule=\"nonzero\" fill-opacity=\"1\" /><path clip-path=\"url(#clip270)\" d=\"M1240.34 1833.84 Q1236.08 1841.16 1234.01 1848.32 Q1231.94 1855.48 1231.94 1862.84 Q1231.94 1870.19 1234.01 1877.41 Q1236.11 1884.61 1240.34 1891.89 L1235.25 1891.89 Q1230.48 1884.41 1228.09 1877.19 Q1225.74 1869.96 1225.74 1862.84 Q1225.74 1855.74 1228.09 1848.54 Q1230.45 1841.35 1235.25 1833.84 L1240.34 1833.84 Z\" fill=\"#000000\" fill-rule=\"nonzero\" fill-opacity=\"1\" /><path clip-path=\"url(#clip270)\" d=\"M1279.46 1854.5 Q1281.66 1850.55 1284.71 1848.67 Q1287.77 1846.79 1291.91 1846.79 Q1297.48 1846.79 1300.5 1850.71 Q1303.52 1854.59 1303.52 1861.78 L1303.52 1883.3 L1297.64 1883.3 L1297.64 1861.98 Q1297.64 1856.85 1295.82 1854.37 Q1294.01 1851.89 1290.28 1851.89 Q1285.73 1851.89 1283.09 1854.91 Q1280.45 1857.93 1280.45 1863.15 L1280.45 1883.3 L1274.56 1883.3 L1274.56 1861.98 Q1274.56 1856.82 1272.75 1854.37 Q1270.93 1851.89 1267.14 1851.89 Q1262.66 1851.89 1260.01 1854.94 Q1257.37 1857.97 1257.37 1863.15 L1257.37 1883.3 L1251.48 1883.3 L1251.48 1847.65 L1257.37 1847.65 L1257.37 1853.19 Q1259.38 1849.91 1262.18 1848.35 Q1264.98 1846.79 1268.83 1846.79 Q1272.71 1846.79 1275.42 1848.77 Q1278.16 1850.74 1279.46 1854.5 Z\" fill=\"#000000\" fill-rule=\"nonzero\" fill-opacity=\"1\" /><path clip-path=\"url(#clip270)\" d=\"M1352.06 1842.11 L1343.34 1865.76 L1360.82 1865.76 L1352.06 1842.11 M1348.43 1835.78 L1355.72 1835.78 L1373.83 1883.3 L1367.15 1883.3 L1362.82 1871.11 L1341.4 1871.11 L1337.07 1883.3 L1330.29 1883.3 L1348.43 1835.78 Z\" fill=\"#000000\" fill-rule=\"nonzero\" fill-opacity=\"1\" /><path clip-path=\"url(#clip270)\" d=\"M1406.11 1865.51 Q1406.11 1859.05 1403.43 1855.39 Q1400.79 1851.7 1396.15 1851.7 Q1391.5 1851.7 1388.82 1855.39 Q1386.18 1859.05 1386.18 1865.51 Q1386.18 1871.97 1388.82 1875.66 Q1391.5 1879.32 1396.15 1879.32 Q1400.79 1879.32 1403.43 1875.66 Q1406.11 1871.97 1406.11 1865.51 M1386.18 1853.06 Q1388.03 1849.88 1390.83 1848.35 Q1393.66 1846.79 1397.58 1846.79 Q1404.07 1846.79 1408.11 1851.95 Q1412.19 1857.11 1412.19 1865.51 Q1412.19 1873.91 1408.11 1879.07 Q1404.07 1884.22 1397.58 1884.22 Q1393.66 1884.22 1390.83 1882.7 Q1388.03 1881.14 1386.18 1877.95 L1386.18 1883.3 L1380.29 1883.3 L1380.29 1833.78 L1386.18 1833.78 L1386.18 1853.06 Z\" fill=\"#000000\" fill-rule=\"nonzero\" fill-opacity=\"1\" /><path clip-path=\"url(#clip270)\" d=\"M1435.71 1851.76 Q1431 1851.76 1428.26 1855.45 Q1425.52 1859.11 1425.52 1865.51 Q1425.52 1871.91 1428.23 1875.6 Q1430.97 1879.26 1435.71 1879.26 Q1440.39 1879.26 1443.12 1875.57 Q1445.86 1871.87 1445.86 1865.51 Q1445.86 1859.17 1443.12 1855.48 Q1440.39 1851.76 1435.71 1851.76 M1435.71 1846.79 Q1443.35 1846.79 1447.71 1851.76 Q1452.07 1856.72 1452.07 1865.51 Q1452.07 1874.26 1447.71 1879.26 Q1443.35 1884.22 1435.71 1884.22 Q1428.04 1884.22 1423.68 1879.26 Q1419.35 1874.26 1419.35 1865.51 Q1419.35 1856.72 1423.68 1851.76 Q1428.04 1846.79 1435.71 1846.79 Z\" fill=\"#000000\" fill-rule=\"nonzero\" fill-opacity=\"1\" /><path clip-path=\"url(#clip270)\" d=\"M1457.57 1847.65 L1463.78 1847.65 L1474.92 1877.57 L1486.06 1847.65 L1492.27 1847.65 L1478.9 1883.3 L1470.94 1883.3 L1457.57 1847.65 Z\" fill=\"#000000\" fill-rule=\"nonzero\" fill-opacity=\"1\" /><path clip-path=\"url(#clip270)\" d=\"M1530.84 1864.01 L1530.84 1866.88 L1503.92 1866.88 Q1504.3 1872.92 1507.55 1876.11 Q1510.82 1879.26 1516.65 1879.26 Q1520.02 1879.26 1523.17 1878.43 Q1526.36 1877.6 1529.47 1875.95 L1529.47 1881.49 Q1526.32 1882.82 1523.01 1883.52 Q1519.7 1884.22 1516.3 1884.22 Q1507.77 1884.22 1502.77 1879.26 Q1497.81 1874.29 1497.81 1865.83 Q1497.81 1857.07 1502.52 1851.95 Q1507.26 1846.79 1515.28 1846.79 Q1522.47 1846.79 1526.64 1851.44 Q1530.84 1856.06 1530.84 1864.01 M1524.99 1862.29 Q1524.92 1857.49 1522.28 1854.62 Q1519.67 1851.76 1515.34 1851.76 Q1510.44 1851.76 1507.48 1854.53 Q1504.55 1857.3 1504.11 1862.33 L1524.99 1862.29 Z\" fill=\"#000000\" fill-rule=\"nonzero\" fill-opacity=\"1\" /><path clip-path=\"url(#clip270)\" d=\"M1567.86 1860.61 L1567.86 1878.02 L1578.17 1878.02 Q1583.36 1878.02 1585.84 1875.88 Q1588.36 1873.72 1588.36 1869.3 Q1588.36 1864.84 1585.84 1862.74 Q1583.36 1860.61 1578.17 1860.61 L1567.86 1860.61 M1567.86 1841.06 L1567.86 1855.39 L1577.38 1855.39 Q1582.09 1855.39 1584.38 1853.64 Q1586.7 1851.85 1586.7 1848.23 Q1586.7 1844.63 1584.38 1842.85 Q1582.09 1841.06 1577.38 1841.06 L1567.86 1841.06 M1561.43 1835.78 L1577.85 1835.78 Q1585.21 1835.78 1589.19 1838.84 Q1593.16 1841.89 1593.16 1847.53 Q1593.16 1851.89 1591.13 1854.46 Q1589.09 1857.04 1585.14 1857.68 Q1589.89 1858.7 1592.5 1861.94 Q1595.14 1865.16 1595.14 1870 Q1595.14 1876.36 1590.81 1879.83 Q1586.48 1883.3 1578.49 1883.3 L1561.43 1883.3 L1561.43 1835.78 Z\" fill=\"#000000\" fill-rule=\"nonzero\" fill-opacity=\"1\" /><path clip-path=\"url(#clip270)\" d=\"M1622.1 1865.38 Q1615 1865.38 1612.26 1867 Q1609.52 1868.63 1609.52 1872.54 Q1609.52 1875.66 1611.56 1877.51 Q1613.63 1879.32 1617.16 1879.32 Q1622.03 1879.32 1624.96 1875.88 Q1627.92 1872.42 1627.92 1866.69 L1627.92 1865.38 L1622.1 1865.38 M1633.78 1862.96 L1633.78 1883.3 L1627.92 1883.3 L1627.92 1877.89 Q1625.92 1881.14 1622.92 1882.7 Q1619.93 1884.22 1615.6 1884.22 Q1610.13 1884.22 1606.88 1881.17 Q1603.67 1878.08 1603.67 1872.92 Q1603.67 1866.91 1607.68 1863.85 Q1611.72 1860.8 1619.71 1860.8 L1627.92 1860.8 L1627.92 1860.23 Q1627.92 1856.18 1625.25 1853.99 Q1622.61 1851.76 1617.8 1851.76 Q1614.74 1851.76 1611.85 1852.49 Q1608.95 1853.22 1606.28 1854.69 L1606.28 1849.28 Q1609.49 1848.03 1612.52 1847.43 Q1615.54 1846.79 1618.4 1846.79 Q1626.14 1846.79 1629.96 1850.8 Q1633.78 1854.81 1633.78 1862.96 Z\" fill=\"#000000\" fill-rule=\"nonzero\" fill-opacity=\"1\" /><path clip-path=\"url(#clip270)\" d=\"M1668.57 1848.7 L1668.57 1854.24 Q1666.08 1852.97 1663.41 1852.33 Q1660.74 1851.7 1657.87 1851.7 Q1653.51 1851.7 1651.31 1853.03 Q1649.15 1854.37 1649.15 1857.04 Q1649.15 1859.08 1650.71 1860.26 Q1652.27 1861.4 1656.98 1862.45 L1658.99 1862.9 Q1665.22 1864.24 1667.83 1866.69 Q1670.48 1869.11 1670.48 1873.47 Q1670.48 1878.43 1666.53 1881.33 Q1662.61 1884.22 1655.74 1884.22 Q1652.87 1884.22 1649.75 1883.65 Q1646.67 1883.11 1643.23 1882 L1643.23 1875.95 Q1646.48 1877.64 1649.63 1878.49 Q1652.78 1879.32 1655.87 1879.32 Q1660 1879.32 1662.23 1877.92 Q1664.46 1876.49 1664.46 1873.91 Q1664.46 1871.52 1662.84 1870.25 Q1661.25 1868.98 1655.8 1867.8 L1653.77 1867.32 Q1648.32 1866.18 1645.9 1863.82 Q1643.48 1861.43 1643.48 1857.3 Q1643.48 1852.27 1647.05 1849.53 Q1650.61 1846.79 1657.17 1846.79 Q1660.42 1846.79 1663.28 1847.27 Q1666.15 1847.75 1668.57 1848.7 Z\" fill=\"#000000\" fill-rule=\"nonzero\" fill-opacity=\"1\" /><path clip-path=\"url(#clip270)\" d=\"M1710.29 1864.01 L1710.29 1866.88 L1683.37 1866.88 Q1683.75 1872.92 1686.99 1876.11 Q1690.27 1879.26 1696.1 1879.26 Q1699.47 1879.26 1702.62 1878.43 Q1705.8 1877.6 1708.92 1875.95 L1708.92 1881.49 Q1705.77 1882.82 1702.46 1883.52 Q1699.15 1884.22 1695.75 1884.22 Q1687.22 1884.22 1682.22 1879.26 Q1677.25 1874.29 1677.25 1865.83 Q1677.25 1857.07 1681.97 1851.95 Q1686.71 1846.79 1694.73 1846.79 Q1701.92 1846.79 1706.09 1851.44 Q1710.29 1856.06 1710.29 1864.01 M1704.44 1862.29 Q1704.37 1857.49 1701.73 1854.62 Q1699.12 1851.76 1694.79 1851.76 Q1689.89 1851.76 1686.93 1854.53 Q1684 1857.3 1683.56 1862.33 L1704.44 1862.29 Z\" fill=\"#000000\" fill-rule=\"nonzero\" fill-opacity=\"1\" /><path clip-path=\"url(#clip270)\" d=\"M1740.88 1835.78 L1770.93 1835.78 L1770.93 1841.19 L1747.31 1841.19 L1747.31 1855.26 L1769.94 1855.26 L1769.94 1860.67 L1747.31 1860.67 L1747.31 1877.89 L1771.5 1877.89 L1771.5 1883.3 L1740.88 1883.3 L1740.88 1835.78 Z\" fill=\"#000000\" fill-rule=\"nonzero\" fill-opacity=\"1\" /><path clip-path=\"url(#clip270)\" d=\"M1781.81 1833.78 L1787.67 1833.78 L1787.67 1883.3 L1781.81 1883.3 L1781.81 1833.78 Z\" fill=\"#000000\" fill-rule=\"nonzero\" fill-opacity=\"1\" /><path clip-path=\"url(#clip270)\" d=\"M1830.41 1864.01 L1830.41 1866.88 L1803.49 1866.88 Q1803.87 1872.92 1807.12 1876.11 Q1810.39 1879.26 1816.22 1879.26 Q1819.59 1879.26 1822.74 1878.43 Q1825.93 1877.6 1829.05 1875.95 L1829.05 1881.49 Q1825.89 1882.82 1822.58 1883.52 Q1819.27 1884.22 1815.87 1884.22 Q1807.34 1884.22 1802.34 1879.26 Q1797.38 1874.29 1797.38 1865.83 Q1797.38 1857.07 1802.09 1851.95 Q1806.83 1846.79 1814.85 1846.79 Q1822.04 1846.79 1826.21 1851.44 Q1830.41 1856.06 1830.41 1864.01 M1824.56 1862.29 Q1824.49 1857.49 1821.85 1854.62 Q1819.24 1851.76 1814.91 1851.76 Q1810.01 1851.76 1807.05 1854.53 Q1804.12 1857.3 1803.68 1862.33 L1824.56 1862.29 Z\" fill=\"#000000\" fill-rule=\"nonzero\" fill-opacity=\"1\" /><path clip-path=\"url(#clip270)\" d=\"M1835.82 1847.65 L1842.03 1847.65 L1853.17 1877.57 L1864.31 1847.65 L1870.52 1847.65 L1857.15 1883.3 L1849.19 1883.3 L1835.82 1847.65 Z\" fill=\"#000000\" fill-rule=\"nonzero\" fill-opacity=\"1\" /><path clip-path=\"url(#clip270)\" d=\"M1894.8 1865.38 Q1887.71 1865.38 1884.97 1867 Q1882.23 1868.63 1882.23 1872.54 Q1882.23 1875.66 1884.27 1877.51 Q1886.34 1879.32 1889.87 1879.32 Q1894.74 1879.32 1897.67 1875.88 Q1900.63 1872.42 1900.63 1866.69 L1900.63 1865.38 L1894.8 1865.38 M1906.48 1862.96 L1906.48 1883.3 L1900.63 1883.3 L1900.63 1877.89 Q1898.62 1881.14 1895.63 1882.7 Q1892.64 1884.22 1888.31 1884.22 Q1882.84 1884.22 1879.59 1881.17 Q1876.37 1878.08 1876.37 1872.92 Q1876.37 1866.91 1880.38 1863.85 Q1884.43 1860.8 1892.42 1860.8 L1900.63 1860.8 L1900.63 1860.23 Q1900.63 1856.18 1897.95 1853.99 Q1895.31 1851.76 1890.51 1851.76 Q1887.45 1851.76 1884.55 1852.49 Q1881.66 1853.22 1878.98 1854.69 L1878.98 1849.28 Q1882.2 1848.03 1885.22 1847.43 Q1888.25 1846.79 1891.11 1846.79 Q1898.85 1846.79 1902.66 1850.8 Q1906.48 1854.81 1906.48 1862.96 Z\" fill=\"#000000\" fill-rule=\"nonzero\" fill-opacity=\"1\" /><path clip-path=\"url(#clip270)\" d=\"M1924.34 1837.53 L1924.34 1847.65 L1936.4 1847.65 L1936.4 1852.2 L1924.34 1852.2 L1924.34 1871.56 Q1924.34 1875.92 1925.52 1877.16 Q1926.73 1878.4 1930.39 1878.4 L1936.4 1878.4 L1936.4 1883.3 L1930.39 1883.3 Q1923.61 1883.3 1921.03 1880.79 Q1918.45 1878.24 1918.45 1871.56 L1918.45 1852.2 L1914.15 1852.2 L1914.15 1847.65 L1918.45 1847.65 L1918.45 1837.53 L1924.34 1837.53 Z\" fill=\"#000000\" fill-rule=\"nonzero\" fill-opacity=\"1\" /><path clip-path=\"url(#clip270)\" d=\"M1944.11 1847.65 L1949.96 1847.65 L1949.96 1883.3 L1944.11 1883.3 L1944.11 1847.65 M1944.11 1833.78 L1949.96 1833.78 L1949.96 1841.19 L1944.11 1841.19 L1944.11 1833.78 Z\" fill=\"#000000\" fill-rule=\"nonzero\" fill-opacity=\"1\" /><path clip-path=\"url(#clip270)\" d=\"M1976.03 1851.76 Q1971.32 1851.76 1968.58 1855.45 Q1965.84 1859.11 1965.84 1865.51 Q1965.84 1871.91 1968.55 1875.6 Q1971.29 1879.26 1976.03 1879.26 Q1980.71 1879.26 1983.45 1875.57 Q1986.18 1871.87 1986.18 1865.51 Q1986.18 1859.17 1983.45 1855.48 Q1980.71 1851.76 1976.03 1851.76 M1976.03 1846.79 Q1983.67 1846.79 1988.03 1851.76 Q1992.39 1856.72 1992.39 1865.51 Q1992.39 1874.26 1988.03 1879.26 Q1983.67 1884.22 1976.03 1884.22 Q1968.36 1884.22 1964 1879.26 Q1959.67 1874.26 1959.67 1865.51 Q1959.67 1856.72 1964 1851.76 Q1968.36 1846.79 1976.03 1846.79 Z\" fill=\"#000000\" fill-rule=\"nonzero\" fill-opacity=\"1\" /><path clip-path=\"url(#clip270)\" d=\"M2031.73 1861.78 L2031.73 1883.3 L2025.87 1883.3 L2025.87 1861.98 Q2025.87 1856.92 2023.9 1854.4 Q2021.93 1851.89 2017.98 1851.89 Q2013.24 1851.89 2010.5 1854.91 Q2007.76 1857.93 2007.76 1863.15 L2007.76 1883.3 L2001.87 1883.3 L2001.87 1847.65 L2007.76 1847.65 L2007.76 1853.19 Q2009.86 1849.98 2012.7 1848.39 Q2015.56 1846.79 2019.28 1846.79 Q2025.43 1846.79 2028.58 1850.61 Q2031.73 1854.4 2031.73 1861.78 Z\" fill=\"#000000\" fill-rule=\"nonzero\" fill-opacity=\"1\" /><path clip-path=\"url(#clip270)\" d=\"M2042.49 1833.84 L2047.58 1833.84 Q2052.35 1841.35 2054.71 1848.54 Q2057.1 1855.74 2057.1 1862.84 Q2057.1 1869.96 2054.71 1877.19 Q2052.35 1884.41 2047.58 1891.89 L2042.49 1891.89 Q2046.72 1884.61 2048.79 1877.41 Q2050.89 1870.19 2050.89 1862.84 Q2050.89 1855.48 2048.79 1848.32 Q2046.72 1841.16 2042.49 1833.84 Z\" fill=\"#000000\" fill-rule=\"nonzero\" fill-opacity=\"1\" /><polyline clip-path=\"url(#clip270)\" style=\"stroke:#000000; stroke-linecap:round; stroke-linejoin:round; stroke-width:4; stroke-opacity:1; fill:none\" points=\"226.141,1734.12 226.141,47.2441 \"/>\n",
              "<polyline clip-path=\"url(#clip270)\" style=\"stroke:#000000; stroke-linecap:round; stroke-linejoin:round; stroke-width:4; stroke-opacity:1; fill:none\" points=\"226.141,1734.12 245.038,1734.12 \"/>\n",
              "<polyline clip-path=\"url(#clip270)\" style=\"stroke:#000000; stroke-linecap:round; stroke-linejoin:round; stroke-width:4; stroke-opacity:1; fill:none\" points=\"226.141,1396.74 245.038,1396.74 \"/>\n",
              "<polyline clip-path=\"url(#clip270)\" style=\"stroke:#000000; stroke-linecap:round; stroke-linejoin:round; stroke-width:4; stroke-opacity:1; fill:none\" points=\"226.141,1059.37 245.038,1059.37 \"/>\n",
              "<polyline clip-path=\"url(#clip270)\" style=\"stroke:#000000; stroke-linecap:round; stroke-linejoin:round; stroke-width:4; stroke-opacity:1; fill:none\" points=\"226.141,721.993 245.038,721.993 \"/>\n",
              "<polyline clip-path=\"url(#clip270)\" style=\"stroke:#000000; stroke-linecap:round; stroke-linejoin:round; stroke-width:4; stroke-opacity:1; fill:none\" points=\"226.141,384.619 245.038,384.619 \"/>\n",
              "<polyline clip-path=\"url(#clip270)\" style=\"stroke:#000000; stroke-linecap:round; stroke-linejoin:round; stroke-width:4; stroke-opacity:1; fill:none\" points=\"226.141,47.2441 245.038,47.2441 \"/>\n",
              "<path clip-path=\"url(#clip270)\" d=\"M128.645 1719.92 Q125.034 1719.92 123.205 1723.48 Q121.4 1727.02 121.4 1734.15 Q121.4 1741.26 123.205 1744.82 Q125.034 1748.36 128.645 1748.36 Q132.279 1748.36 134.085 1744.82 Q135.913 1741.26 135.913 1734.15 Q135.913 1727.02 134.085 1723.48 Q132.279 1719.92 128.645 1719.92 M128.645 1716.21 Q134.455 1716.21 137.511 1720.82 Q140.589 1725.4 140.589 1734.15 Q140.589 1742.88 137.511 1747.48 Q134.455 1752.07 128.645 1752.07 Q122.835 1752.07 119.756 1747.48 Q116.701 1742.88 116.701 1734.15 Q116.701 1725.4 119.756 1720.82 Q122.835 1716.21 128.645 1716.21 Z\" fill=\"#000000\" fill-rule=\"nonzero\" fill-opacity=\"1\" /><path clip-path=\"url(#clip270)\" d=\"M148.807 1745.52 L153.691 1745.52 L153.691 1751.4 L148.807 1751.4 L148.807 1745.52 Z\" fill=\"#000000\" fill-rule=\"nonzero\" fill-opacity=\"1\" /><path clip-path=\"url(#clip270)\" d=\"M173.876 1719.92 Q170.265 1719.92 168.436 1723.48 Q166.631 1727.02 166.631 1734.15 Q166.631 1741.26 168.436 1744.82 Q170.265 1748.36 173.876 1748.36 Q177.51 1748.36 179.316 1744.82 Q181.145 1741.26 181.145 1734.15 Q181.145 1727.02 179.316 1723.48 Q177.51 1719.92 173.876 1719.92 M173.876 1716.21 Q179.686 1716.21 182.742 1720.82 Q185.821 1725.4 185.821 1734.15 Q185.821 1742.88 182.742 1747.48 Q179.686 1752.07 173.876 1752.07 Q168.066 1752.07 164.987 1747.48 Q161.932 1742.88 161.932 1734.15 Q161.932 1725.4 164.987 1720.82 Q168.066 1716.21 173.876 1716.21 Z\" fill=\"#000000\" fill-rule=\"nonzero\" fill-opacity=\"1\" /><path clip-path=\"url(#clip270)\" d=\"M130.242 1382.54 Q126.631 1382.54 124.802 1386.11 Q122.997 1389.65 122.997 1396.78 Q122.997 1403.88 124.802 1407.45 Q126.631 1410.99 130.242 1410.99 Q133.876 1410.99 135.682 1407.45 Q137.511 1403.88 137.511 1396.78 Q137.511 1389.65 135.682 1386.11 Q133.876 1382.54 130.242 1382.54 M130.242 1378.84 Q136.052 1378.84 139.108 1383.44 Q142.187 1388.03 142.187 1396.78 Q142.187 1405.5 139.108 1410.11 Q136.052 1414.69 130.242 1414.69 Q124.432 1414.69 121.353 1410.11 Q118.298 1405.5 118.298 1396.78 Q118.298 1388.03 121.353 1383.44 Q124.432 1378.84 130.242 1378.84 Z\" fill=\"#000000\" fill-rule=\"nonzero\" fill-opacity=\"1\" /><path clip-path=\"url(#clip270)\" d=\"M150.404 1408.14 L155.288 1408.14 L155.288 1414.02 L150.404 1414.02 L150.404 1408.14 Z\" fill=\"#000000\" fill-rule=\"nonzero\" fill-opacity=\"1\" /><path clip-path=\"url(#clip270)\" d=\"M169.501 1410.09 L185.821 1410.09 L185.821 1414.02 L163.876 1414.02 L163.876 1410.09 Q166.538 1407.33 171.122 1402.7 Q175.728 1398.05 176.909 1396.71 Q179.154 1394.18 180.034 1392.45 Q180.936 1390.69 180.936 1389 Q180.936 1386.24 178.992 1384.51 Q177.071 1382.77 173.969 1382.77 Q171.77 1382.77 169.316 1383.54 Q166.885 1384.3 164.108 1385.85 L164.108 1381.13 Q166.932 1379.99 169.385 1379.42 Q171.839 1378.84 173.876 1378.84 Q179.247 1378.84 182.441 1381.52 Q185.635 1384.21 185.635 1388.7 Q185.635 1390.83 184.825 1392.75 Q184.038 1394.65 181.932 1397.24 Q181.353 1397.91 178.251 1401.13 Q175.149 1404.32 169.501 1410.09 Z\" fill=\"#000000\" fill-rule=\"nonzero\" fill-opacity=\"1\" /><path clip-path=\"url(#clip270)\" d=\"M128.159 1045.17 Q124.548 1045.17 122.719 1048.73 Q120.913 1052.27 120.913 1059.4 Q120.913 1066.51 122.719 1070.07 Q124.548 1073.62 128.159 1073.62 Q131.793 1073.62 133.599 1070.07 Q135.427 1066.51 135.427 1059.4 Q135.427 1052.27 133.599 1048.73 Q131.793 1045.17 128.159 1045.17 M128.159 1041.46 Q133.969 1041.46 137.025 1046.07 Q140.103 1050.65 140.103 1059.4 Q140.103 1068.13 137.025 1072.74 Q133.969 1077.32 128.159 1077.32 Q122.349 1077.32 119.27 1072.74 Q116.214 1068.13 116.214 1059.4 Q116.214 1050.65 119.27 1046.07 Q122.349 1041.46 128.159 1041.46 Z\" fill=\"#000000\" fill-rule=\"nonzero\" fill-opacity=\"1\" /><path clip-path=\"url(#clip270)\" d=\"M148.321 1070.77 L153.205 1070.77 L153.205 1076.65 L148.321 1076.65 L148.321 1070.77 Z\" fill=\"#000000\" fill-rule=\"nonzero\" fill-opacity=\"1\" /><path clip-path=\"url(#clip270)\" d=\"M176.237 1046.16 L164.432 1064.61 L176.237 1064.61 L176.237 1046.16 M175.01 1042.09 L180.89 1042.09 L180.89 1064.61 L185.821 1064.61 L185.821 1068.5 L180.89 1068.5 L180.89 1076.65 L176.237 1076.65 L176.237 1068.5 L160.636 1068.5 L160.636 1063.99 L175.01 1042.09 Z\" fill=\"#000000\" fill-rule=\"nonzero\" fill-opacity=\"1\" /><path clip-path=\"url(#clip270)\" d=\"M128.483 707.792 Q124.872 707.792 123.043 711.357 Q121.238 714.898 121.238 722.028 Q121.238 729.134 123.043 732.699 Q124.872 736.241 128.483 736.241 Q132.117 736.241 133.923 732.699 Q135.751 729.134 135.751 722.028 Q135.751 714.898 133.923 711.357 Q132.117 707.792 128.483 707.792 M128.483 704.088 Q134.293 704.088 137.349 708.695 Q140.427 713.278 140.427 722.028 Q140.427 730.755 137.349 735.361 Q134.293 739.945 128.483 739.945 Q122.673 739.945 119.594 735.361 Q116.539 730.755 116.539 722.028 Q116.539 713.278 119.594 708.695 Q122.673 704.088 128.483 704.088 Z\" fill=\"#000000\" fill-rule=\"nonzero\" fill-opacity=\"1\" /><path clip-path=\"url(#clip270)\" d=\"M148.645 733.394 L153.529 733.394 L153.529 739.273 L148.645 739.273 L148.645 733.394 Z\" fill=\"#000000\" fill-rule=\"nonzero\" fill-opacity=\"1\" /><path clip-path=\"url(#clip270)\" d=\"M174.293 720.13 Q171.145 720.13 169.293 722.283 Q167.464 724.435 167.464 728.185 Q167.464 731.912 169.293 734.088 Q171.145 736.241 174.293 736.241 Q177.441 736.241 179.27 734.088 Q181.122 731.912 181.122 728.185 Q181.122 724.435 179.27 722.283 Q177.441 720.13 174.293 720.13 M183.575 705.477 L183.575 709.736 Q181.816 708.903 180.01 708.463 Q178.228 708.023 176.469 708.023 Q171.839 708.023 169.385 711.148 Q166.955 714.273 166.608 720.593 Q167.973 718.579 170.034 717.514 Q172.094 716.426 174.571 716.426 Q179.779 716.426 182.788 719.597 Q185.821 722.746 185.821 728.185 Q185.821 733.509 182.672 736.727 Q179.524 739.945 174.293 739.945 Q168.297 739.945 165.126 735.361 Q161.955 730.755 161.955 722.028 Q161.955 713.834 165.844 708.972 Q169.733 704.088 176.284 704.088 Q178.043 704.088 179.825 704.435 Q181.631 704.783 183.575 705.477 Z\" fill=\"#000000\" fill-rule=\"nonzero\" fill-opacity=\"1\" /><path clip-path=\"url(#clip270)\" d=\"M128.738 370.417 Q125.126 370.417 123.298 373.982 Q121.492 377.524 121.492 384.653 Q121.492 391.76 123.298 395.325 Q125.126 398.866 128.738 398.866 Q132.372 398.866 134.177 395.325 Q136.006 391.76 136.006 384.653 Q136.006 377.524 134.177 373.982 Q132.372 370.417 128.738 370.417 M128.738 366.714 Q134.548 366.714 137.603 371.32 Q140.682 375.903 140.682 384.653 Q140.682 393.38 137.603 397.987 Q134.548 402.57 128.738 402.57 Q122.927 402.57 119.849 397.987 Q116.793 393.38 116.793 384.653 Q116.793 375.903 119.849 371.32 Q122.927 366.714 128.738 366.714 Z\" fill=\"#000000\" fill-rule=\"nonzero\" fill-opacity=\"1\" /><path clip-path=\"url(#clip270)\" d=\"M148.899 396.019 L153.784 396.019 L153.784 401.899 L148.899 401.899 L148.899 396.019 Z\" fill=\"#000000\" fill-rule=\"nonzero\" fill-opacity=\"1\" /><path clip-path=\"url(#clip270)\" d=\"M173.969 385.487 Q170.635 385.487 168.714 387.269 Q166.816 389.052 166.816 392.177 Q166.816 395.301 168.714 397.084 Q170.635 398.866 173.969 398.866 Q177.302 398.866 179.223 397.084 Q181.145 395.278 181.145 392.177 Q181.145 389.052 179.223 387.269 Q177.325 385.487 173.969 385.487 M169.293 383.496 Q166.284 382.755 164.594 380.695 Q162.927 378.635 162.927 375.672 Q162.927 371.528 165.867 369.121 Q168.83 366.714 173.969 366.714 Q179.131 366.714 182.071 369.121 Q185.01 371.528 185.01 375.672 Q185.01 378.635 183.321 380.695 Q181.654 382.755 178.668 383.496 Q182.047 384.283 183.922 386.575 Q185.821 388.866 185.821 392.177 Q185.821 397.2 182.742 399.885 Q179.686 402.57 173.969 402.57 Q168.251 402.57 165.173 399.885 Q162.117 397.2 162.117 392.177 Q162.117 388.866 164.015 386.575 Q165.913 384.283 169.293 383.496 M167.58 376.112 Q167.58 378.797 169.247 380.302 Q170.936 381.806 173.969 381.806 Q176.978 381.806 178.668 380.302 Q180.381 378.797 180.381 376.112 Q180.381 373.427 178.668 371.922 Q176.978 370.417 173.969 370.417 Q170.936 370.417 169.247 371.922 Q167.58 373.427 167.58 376.112 Z\" fill=\"#000000\" fill-rule=\"nonzero\" fill-opacity=\"1\" /><path clip-path=\"url(#clip270)\" d=\"M119.455 60.5889 L127.094 60.5889 L127.094 34.2233 L118.784 35.89 L118.784 31.6308 L127.048 29.9641 L131.724 29.9641 L131.724 60.5889 L139.362 60.5889 L139.362 64.5241 L119.455 64.5241 L119.455 60.5889 Z\" fill=\"#000000\" fill-rule=\"nonzero\" fill-opacity=\"1\" /><path clip-path=\"url(#clip270)\" d=\"M148.807 58.6445 L153.691 58.6445 L153.691 64.5241 L148.807 64.5241 L148.807 58.6445 Z\" fill=\"#000000\" fill-rule=\"nonzero\" fill-opacity=\"1\" /><path clip-path=\"url(#clip270)\" d=\"M173.876 33.0428 Q170.265 33.0428 168.436 36.6076 Q166.631 40.1492 166.631 47.2788 Q166.631 54.3853 168.436 57.9501 Q170.265 61.4917 173.876 61.4917 Q177.51 61.4917 179.316 57.9501 Q181.145 54.3853 181.145 47.2788 Q181.145 40.1492 179.316 36.6076 Q177.51 33.0428 173.876 33.0428 M173.876 29.3391 Q179.686 29.3391 182.742 33.9456 Q185.821 38.5289 185.821 47.2788 Q185.821 56.0056 182.742 60.6121 Q179.686 65.1954 173.876 65.1954 Q168.066 65.1954 164.987 60.6121 Q161.932 56.0056 161.932 47.2788 Q161.932 38.5289 164.987 33.9456 Q168.066 29.3391 173.876 29.3391 Z\" fill=\"#000000\" fill-rule=\"nonzero\" fill-opacity=\"1\" /><path clip-path=\"url(#clip270)\" d=\"M14.1184 1324.84 L14.1184 1297.53 L19.5293 1297.53 L19.5293 1318.41 L33.5338 1318.41 L33.5338 1299.57 L38.9447 1299.57 L38.9447 1318.41 L61.6384 1318.41 L61.6384 1324.84 L14.1184 1324.84 Z\" fill=\"#000000\" fill-rule=\"nonzero\" fill-opacity=\"1\" /><path clip-path=\"url(#clip270)\" d=\"M31.465 1271.68 Q30.8921 1272.67 30.6375 1273.85 Q30.351 1274.99 30.351 1276.39 Q30.351 1281.36 33.5975 1284.03 Q36.8122 1286.68 42.8596 1286.68 L61.6384 1286.68 L61.6384 1292.56 L25.9905 1292.56 L25.9905 1286.68 L31.5287 1286.68 Q28.2821 1284.83 26.7225 1281.87 Q25.1311 1278.91 25.1311 1274.68 Q25.1311 1274.07 25.2266 1273.34 Q25.2903 1272.61 25.4494 1271.72 L31.465 1271.68 Z\" fill=\"#000000\" fill-rule=\"nonzero\" fill-opacity=\"1\" /><path clip-path=\"url(#clip270)\" d=\"M43.719 1249.34 Q43.719 1256.44 45.3422 1259.18 Q46.9655 1261.91 50.8804 1261.91 Q53.9996 1261.91 55.8457 1259.88 Q57.6599 1257.81 57.6599 1254.27 Q57.6599 1249.4 54.2224 1246.48 Q50.7531 1243.52 45.0239 1243.52 L43.719 1243.52 L43.719 1249.34 M41.3 1237.66 L61.6384 1237.66 L61.6384 1243.52 L56.2276 1243.52 Q59.4741 1245.52 61.0337 1248.51 Q62.5615 1251.5 62.5615 1255.83 Q62.5615 1261.31 59.5059 1264.55 Q56.4186 1267.77 51.2623 1267.77 Q45.2467 1267.77 42.1912 1263.76 Q39.1357 1259.72 39.1357 1251.73 L39.1357 1243.52 L38.5628 1243.52 Q34.5205 1243.52 32.3244 1246.19 Q30.0964 1248.83 30.0964 1253.64 Q30.0964 1256.69 30.8284 1259.59 Q31.5605 1262.49 33.0246 1265.16 L27.6137 1265.16 Q26.3724 1261.94 25.7677 1258.92 Q25.1311 1255.9 25.1311 1253.03 Q25.1311 1245.3 29.1415 1241.48 Q33.1519 1237.66 41.3 1237.66 Z\" fill=\"#000000\" fill-rule=\"nonzero\" fill-opacity=\"1\" /><path clip-path=\"url(#clip270)\" d=\"M27.3591 1199.94 L32.8336 1199.94 Q31.465 1202.43 30.7966 1204.94 Q30.0964 1207.42 30.0964 1209.97 Q30.0964 1215.67 33.7248 1218.82 Q37.3214 1221.97 43.8463 1221.97 Q50.3711 1221.97 53.9996 1218.82 Q57.5962 1215.67 57.5962 1209.97 Q57.5962 1207.42 56.9278 1204.94 Q56.2276 1202.43 54.859 1199.94 L60.2698 1199.94 Q61.4156 1202.39 61.9886 1205.04 Q62.5615 1207.64 62.5615 1210.61 Q62.5615 1218.66 57.5007 1223.4 Q52.44 1228.14 43.8463 1228.14 Q35.1253 1228.14 30.1282 1223.37 Q25.1311 1218.56 25.1311 1210.22 Q25.1311 1207.52 25.704 1204.94 Q26.2451 1202.36 27.3591 1199.94 Z\" fill=\"#000000\" fill-rule=\"nonzero\" fill-opacity=\"1\" /><path clip-path=\"url(#clip270)\" d=\"M15.869 1183.96 L25.9905 1183.96 L25.9905 1171.9 L30.542 1171.9 L30.542 1183.96 L49.8937 1183.96 Q54.2542 1183.96 55.4955 1182.79 Q56.7368 1181.58 56.7368 1177.92 L56.7368 1171.9 L61.6384 1171.9 L61.6384 1177.92 Q61.6384 1184.7 59.124 1187.27 Q56.5777 1189.85 49.8937 1189.85 L30.542 1189.85 L30.542 1194.15 L25.9905 1194.15 L25.9905 1189.85 L15.869 1189.85 L15.869 1183.96 Z\" fill=\"#000000\" fill-rule=\"nonzero\" fill-opacity=\"1\" /><path clip-path=\"url(#clip270)\" d=\"M25.9905 1164.2 L25.9905 1158.34 L61.6384 1158.34 L61.6384 1164.2 L25.9905 1164.2 M12.1132 1164.2 L12.1132 1158.34 L19.5293 1158.34 L19.5293 1164.2 L12.1132 1164.2 Z\" fill=\"#000000\" fill-rule=\"nonzero\" fill-opacity=\"1\" /><path clip-path=\"url(#clip270)\" d=\"M30.0964 1132.28 Q30.0964 1136.99 33.7885 1139.72 Q37.4488 1142.46 43.8463 1142.46 Q50.2438 1142.46 53.9359 1139.75 Q57.5962 1137.02 57.5962 1132.28 Q57.5962 1127.6 53.9041 1124.86 Q50.212 1122.12 43.8463 1122.12 Q37.5124 1122.12 33.8203 1124.86 Q30.0964 1127.6 30.0964 1132.28 M25.1311 1132.28 Q25.1311 1124.64 30.0964 1120.28 Q35.0616 1115.92 43.8463 1115.92 Q52.5991 1115.92 57.5962 1120.28 Q62.5615 1124.64 62.5615 1132.28 Q62.5615 1139.95 57.5962 1144.31 Q52.5991 1148.63 43.8463 1148.63 Q35.0616 1148.63 30.0964 1144.31 Q25.1311 1139.95 25.1311 1132.28 Z\" fill=\"#000000\" fill-rule=\"nonzero\" fill-opacity=\"1\" /><path clip-path=\"url(#clip270)\" d=\"M40.1224 1076.58 L61.6384 1076.58 L61.6384 1082.43 L40.3133 1082.43 Q35.2526 1082.43 32.7381 1084.4 Q30.2237 1086.38 30.2237 1090.33 Q30.2237 1095.07 33.2474 1097.8 Q36.2711 1100.54 41.491 1100.54 L61.6384 1100.54 L61.6384 1106.43 L25.9905 1106.43 L25.9905 1100.54 L31.5287 1100.54 Q28.314 1098.44 26.7225 1095.61 Q25.1311 1092.74 25.1311 1089.02 Q25.1311 1082.88 28.9505 1079.73 Q32.7381 1076.58 40.1224 1076.58 Z\" fill=\"#000000\" fill-rule=\"nonzero\" fill-opacity=\"1\" /><path clip-path=\"url(#clip270)\" d=\"M30.0964 1030.36 Q30.0964 1035.07 33.7885 1037.81 Q37.4488 1040.55 43.8463 1040.55 Q50.2438 1040.55 53.9359 1037.84 Q57.5962 1035.1 57.5962 1030.36 Q57.5962 1025.68 53.9041 1022.94 Q50.212 1020.21 43.8463 1020.21 Q37.5124 1020.21 33.8203 1022.94 Q30.0964 1025.68 30.0964 1030.36 M25.1311 1030.36 Q25.1311 1022.72 30.0964 1018.36 Q35.0616 1014 43.8463 1014 Q52.5991 1014 57.5962 1018.36 Q62.5615 1022.72 62.5615 1030.36 Q62.5615 1038.03 57.5962 1042.39 Q52.5991 1046.72 43.8463 1046.72 Q35.0616 1046.72 30.0964 1042.39 Q25.1311 1038.03 25.1311 1030.36 Z\" fill=\"#000000\" fill-rule=\"nonzero\" fill-opacity=\"1\" /><path clip-path=\"url(#clip270)\" d=\"M12.1132 986.246 L16.983 986.246 L16.983 991.848 Q16.983 994.999 18.2562 996.24 Q19.5293 997.449 22.8395 997.449 L25.9905 997.449 L25.9905 987.805 L30.542 987.805 L30.542 997.449 L61.6384 997.449 L61.6384 1003.34 L30.542 1003.34 L30.542 1008.94 L25.9905 1008.94 L25.9905 1003.34 L23.5079 1003.34 Q17.5559 1003.34 14.8505 1000.57 Q12.1132 997.799 12.1132 991.784 L12.1132 986.246 Z\" fill=\"#000000\" fill-rule=\"nonzero\" fill-opacity=\"1\" /><path clip-path=\"url(#clip270)\" d=\"M61.6384 948.115 L14.1184 966.257 L14.1184 959.542 L54.1269 944.487 L14.1184 929.4 L14.1184 922.716 L61.6384 940.826 L61.6384 948.115 Z\" fill=\"#000000\" fill-rule=\"nonzero\" fill-opacity=\"1\" /><path clip-path=\"url(#clip270)\" d=\"M43.719 904.892 Q43.719 911.99 45.3422 914.727 Q46.9655 917.464 50.8804 917.464 Q53.9996 917.464 55.8457 915.427 Q57.6599 913.358 57.6599 909.825 Q57.6599 904.956 54.2224 902.027 Q50.7531 899.067 45.0239 899.067 L43.719 899.067 L43.719 904.892 M41.3 893.211 L61.6384 893.211 L61.6384 899.067 L56.2276 899.067 Q59.4741 901.073 61.0337 904.064 Q62.5615 907.056 62.5615 911.385 Q62.5615 916.86 59.5059 920.106 Q56.4186 923.321 51.2623 923.321 Q45.2467 923.321 42.1912 919.31 Q39.1357 915.268 39.1357 907.279 L39.1357 899.067 L38.5628 899.067 Q34.5205 899.067 32.3244 901.741 Q30.0964 904.383 30.0964 909.189 Q30.0964 912.244 30.8284 915.141 Q31.5605 918.037 33.0246 920.711 L27.6137 920.711 Q26.3724 917.496 25.7677 914.472 Q25.1311 911.449 25.1311 908.584 Q25.1311 900.85 29.1415 897.03 Q33.1519 893.211 41.3 893.211 Z\" fill=\"#000000\" fill-rule=\"nonzero\" fill-opacity=\"1\" /><path clip-path=\"url(#clip270)\" d=\"M12.1132 881.148 L12.1132 875.291 L61.6384 875.291 L61.6384 881.148 L12.1132 881.148 Z\" fill=\"#000000\" fill-rule=\"nonzero\" fill-opacity=\"1\" /><path clip-path=\"url(#clip270)\" d=\"M47.5702 863.642 L25.9905 863.642 L25.9905 857.786 L47.3474 857.786 Q52.4082 857.786 54.9545 855.812 Q57.4689 853.839 57.4689 849.892 Q57.4689 845.15 54.4452 842.413 Q51.4215 839.643 46.2016 839.643 L25.9905 839.643 L25.9905 833.787 L61.6384 833.787 L61.6384 839.643 L56.1639 839.643 Q59.4104 841.776 61.0019 844.609 Q62.5615 847.41 62.5615 851.134 Q62.5615 857.276 58.742 860.459 Q54.9226 863.642 47.5702 863.642 M25.1311 848.906 L25.1311 848.906 Z\" fill=\"#000000\" fill-rule=\"nonzero\" fill-opacity=\"1\" /><path clip-path=\"url(#clip270)\" d=\"M42.3504 791.232 L45.2149 791.232 L45.2149 818.159 Q51.2623 817.777 54.4452 814.531 Q57.5962 811.252 57.5962 805.428 Q57.5962 802.054 56.7687 798.903 Q55.9411 795.72 54.2861 792.601 L59.8242 792.601 Q61.161 795.752 61.8612 799.062 Q62.5615 802.372 62.5615 805.778 Q62.5615 814.308 57.5962 819.305 Q52.631 824.27 44.1646 824.27 Q35.4117 824.27 30.2873 819.56 Q25.1311 814.817 25.1311 806.796 Q25.1311 799.603 29.7781 795.434 Q34.3932 791.232 42.3504 791.232 M40.6316 797.089 Q35.8255 797.152 32.9609 799.794 Q30.0964 802.404 30.0964 806.733 Q30.0964 811.634 32.8654 814.594 Q35.6345 817.523 40.6634 817.968 L40.6316 797.089 Z\" fill=\"#000000\" fill-rule=\"nonzero\" fill-opacity=\"1\" /><path clip-path=\"url(#clip270)\" d=\"M19.402 754.216 L56.3549 754.216 L56.3549 746.45 Q56.3549 736.615 51.8989 732.063 Q47.4429 727.48 37.8307 727.48 Q28.2821 727.48 23.858 732.063 Q19.402 736.615 19.402 746.45 L19.402 754.216 M14.1184 760.645 L14.1184 747.436 Q14.1184 733.623 19.8794 727.161 Q25.6085 720.7 37.8307 720.7 Q50.1165 720.7 55.8775 727.193 Q61.6384 733.686 61.6384 747.436 L61.6384 760.645 L14.1184 760.645 Z\" fill=\"#000000\" fill-rule=\"nonzero\" fill-opacity=\"1\" /><path clip-path=\"url(#clip270)\" d=\"M43.719 694.505 Q43.719 701.603 45.3422 704.34 Q46.9655 707.078 50.8804 707.078 Q53.9996 707.078 55.8457 705.041 Q57.6599 702.972 57.6599 699.439 Q57.6599 694.569 54.2224 691.641 Q50.7531 688.681 45.0239 688.681 L43.719 688.681 L43.719 694.505 M41.3 682.824 L61.6384 682.824 L61.6384 688.681 L56.2276 688.681 Q59.4741 690.686 61.0337 693.678 Q62.5615 696.67 62.5615 700.998 Q62.5615 706.473 59.5059 709.719 Q56.4186 712.934 51.2623 712.934 Q45.2467 712.934 42.1912 708.924 Q39.1357 704.881 39.1357 696.893 L39.1357 688.681 L38.5628 688.681 Q34.5205 688.681 32.3244 691.354 Q30.0964 693.996 30.0964 698.802 Q30.0964 701.858 30.8284 704.754 Q31.5605 707.651 33.0246 710.324 L27.6137 710.324 Q26.3724 707.109 25.7677 704.086 Q25.1311 701.062 25.1311 698.197 Q25.1311 690.463 29.1415 686.644 Q33.1519 682.824 41.3 682.824 Z\" fill=\"#000000\" fill-rule=\"nonzero\" fill-opacity=\"1\" /><path clip-path=\"url(#clip270)\" d=\"M32.8336 643.007 Q28.8869 640.811 27.009 637.755 Q25.1311 634.7 25.1311 630.562 Q25.1311 624.992 29.046 621.968 Q32.9291 618.944 40.1224 618.944 L61.6384 618.944 L61.6384 624.833 L40.3133 624.833 Q35.1889 624.833 32.7063 626.647 Q30.2237 628.461 30.2237 632.185 Q30.2237 636.737 33.2474 639.378 Q36.2711 642.02 41.491 642.02 L61.6384 642.02 L61.6384 647.908 L40.3133 647.908 Q35.1571 647.908 32.7063 649.723 Q30.2237 651.537 30.2237 655.324 Q30.2237 659.812 33.2792 662.454 Q36.3029 665.096 41.491 665.096 L61.6384 665.096 L61.6384 670.984 L25.9905 670.984 L25.9905 665.096 L31.5287 665.096 Q28.2503 663.091 26.6907 660.29 Q25.1311 657.489 25.1311 653.638 Q25.1311 649.754 27.1045 647.049 Q29.0779 644.312 32.8336 643.007 Z\" fill=\"#000000\" fill-rule=\"nonzero\" fill-opacity=\"1\" /><path clip-path=\"url(#clip270)\" d=\"M43.719 591.063 Q43.719 598.16 45.3422 600.898 Q46.9655 603.635 50.8804 603.635 Q53.9996 603.635 55.8457 601.598 Q57.6599 599.529 57.6599 595.996 Q57.6599 591.126 54.2224 588.198 Q50.7531 585.238 45.0239 585.238 L43.719 585.238 L43.719 591.063 M41.3 579.382 L61.6384 579.382 L61.6384 585.238 L56.2276 585.238 Q59.4741 587.243 61.0337 590.235 Q62.5615 593.227 62.5615 597.556 Q62.5615 603.03 59.5059 606.277 Q56.4186 609.491 51.2623 609.491 Q45.2467 609.491 42.1912 605.481 Q39.1357 601.439 39.1357 593.45 L39.1357 585.238 L38.5628 585.238 Q34.5205 585.238 32.3244 587.912 Q30.0964 590.553 30.0964 595.359 Q30.0964 598.415 30.8284 601.311 Q31.5605 604.208 33.0246 606.881 L27.6137 606.881 Q26.3724 603.667 25.7677 600.643 Q25.1311 597.619 25.1311 594.755 Q25.1311 587.02 29.1415 583.201 Q33.1519 579.382 41.3 579.382 Z\" fill=\"#000000\" fill-rule=\"nonzero\" fill-opacity=\"1\" /><path clip-path=\"url(#clip270)\" d=\"M43.4007 543.861 Q37.035 543.861 33.5338 546.503 Q30.0327 549.113 30.0327 553.855 Q30.0327 558.566 33.5338 561.207 Q37.035 563.817 43.4007 563.817 Q49.7346 563.817 53.2357 561.207 Q56.7368 558.566 56.7368 553.855 Q56.7368 549.113 53.2357 546.503 Q49.7346 543.861 43.4007 543.861 M57.2143 538.004 Q66.3172 538.004 70.7414 542.047 Q75.1974 546.089 75.1974 554.428 Q75.1974 557.515 74.72 560.253 Q74.2744 562.99 73.3195 565.568 L67.6222 565.568 Q69.0227 562.99 69.6911 560.475 Q70.3595 557.961 70.3595 555.351 Q70.3595 549.59 67.3358 546.725 Q64.3439 543.861 58.2646 543.861 L55.3682 543.861 Q58.5192 545.675 60.0788 548.508 Q61.6384 551.341 61.6384 555.287 Q61.6384 561.844 56.6414 565.854 Q51.6443 569.865 43.4007 569.865 Q35.1253 569.865 30.1282 565.854 Q25.1311 561.844 25.1311 555.287 Q25.1311 551.341 26.6907 548.508 Q28.2503 545.675 31.4013 543.861 L25.9905 543.861 L25.9905 538.004 L57.2143 538.004 Z\" fill=\"#000000\" fill-rule=\"nonzero\" fill-opacity=\"1\" /><path clip-path=\"url(#clip270)\" d=\"M42.3504 495.45 L45.2149 495.45 L45.2149 522.377 Q51.2623 521.995 54.4452 518.748 Q57.5962 515.47 57.5962 509.645 Q57.5962 506.271 56.7687 503.12 Q55.9411 499.938 54.2861 496.818 L59.8242 496.818 Q61.161 499.969 61.8612 503.28 Q62.5615 506.59 62.5615 509.995 Q62.5615 518.525 57.5962 523.522 Q52.631 528.488 44.1646 528.488 Q35.4117 528.488 30.2873 523.777 Q25.1311 519.035 25.1311 511.014 Q25.1311 503.821 29.7781 499.651 Q34.3932 495.45 42.3504 495.45 M40.6316 501.306 Q35.8255 501.37 32.9609 504.012 Q30.0964 506.622 30.0964 510.95 Q30.0964 515.852 32.8654 518.812 Q35.6345 521.74 40.6634 522.186 L40.6316 501.306 Z\" fill=\"#000000\" fill-rule=\"nonzero\" fill-opacity=\"1\" /><path clip-path=\"url(#clip270)\" d=\"M31.4013 462.38 L12.1132 462.38 L12.1132 456.523 L61.6384 456.523 L61.6384 462.38 L56.2912 462.38 Q59.4741 464.226 61.0337 467.059 Q62.5615 469.86 62.5615 473.806 Q62.5615 480.268 57.4052 484.342 Q52.249 488.384 43.8463 488.384 Q35.4436 488.384 30.2873 484.342 Q25.1311 480.268 25.1311 473.806 Q25.1311 469.86 26.6907 467.059 Q28.2185 464.226 31.4013 462.38 M43.8463 482.336 Q50.3075 482.336 53.9996 479.695 Q57.6599 477.021 57.6599 472.374 Q57.6599 467.727 53.9996 465.053 Q50.3075 462.38 43.8463 462.38 Q37.3851 462.38 33.7248 465.053 Q30.0327 467.727 30.0327 472.374 Q30.0327 477.021 33.7248 479.695 Q37.3851 482.336 43.8463 482.336 Z\" fill=\"#000000\" fill-rule=\"nonzero\" fill-opacity=\"1\" /><polyline clip-path=\"url(#clip272)\" style=\"stroke:#009af9; stroke-linecap:round; stroke-linejoin:round; stroke-width:4; stroke-opacity:1; fill:none\" points=\"294.479,1734.12 299.035,1604.67 303.59,1603.17 308.146,1601.65 312.702,1600.11 317.258,1598.56 321.814,1597 326.37,1595.41 330.926,1593.82 335.482,1592.2 340.038,1590.57 344.593,1588.92 349.149,1587.25 353.705,1585.56 358.261,1583.86 362.817,1582.14 367.373,1580.4 371.929,1578.65 376.485,1576.88 381.04,1575.08 385.596,1573.27 390.152,1571.45 394.708,1569.6 399.264,1567.73 403.82,1565.85 408.376,1563.95 412.932,1562.03 417.487,1560.08 422.043,1558.12 426.599,1556.14 431.155,1554.14 435.711,1552.12 440.267,1550.08 444.823,1548.03 449.379,1545.95 453.934,1543.85 458.49,1541.73 463.046,1539.58 467.602,1537.42 472.158,1535.24 476.714,1533.04 481.27,1530.81 485.826,1528.57 490.381,1526.3 494.937,1524.01 499.493,1521.7 504.049,1519.37 508.605,1517.02 513.161,1514.64 517.717,1512.24 522.273,1509.82 526.829,1507.38 531.384,1504.92 535.94,1502.43 540.496,1499.92 545.052,1497.39 549.608,1494.83 554.164,1492.25 558.72,1489.65 563.276,1487.03 567.831,1484.38 572.387,1481.71 576.943,1479.01 581.499,1476.3 586.055,1473.55 590.611,1470.79 595.167,1468 599.723,1465.18 604.278,1462.35 608.834,1459.48 613.39,1456.6 617.946,1453.69 622.502,1450.75 627.058,1447.79 631.614,1444.81 636.17,1441.8 640.725,1438.77 645.281,1435.71 649.837,1432.63 654.393,1429.52 658.949,1426.39 663.505,1423.23 668.061,1420.05 672.617,1416.84 677.172,1413.61 681.728,1410.35 686.284,1407.07 690.84,1403.76 695.396,1400.43 699.952,1397.07 704.508,1393.68 709.064,1390.27 713.62,1386.84 718.175,1383.38 722.731,1379.89 727.287,1376.38 731.843,1372.85 736.399,1369.29 740.955,1365.7 745.511,1362.09 750.067,1358.45 754.622,1354.79 759.178,1351.1 763.734,1347.39 768.29,1343.65 772.846,1339.88 777.402,1336.1 781.958,1332.28 786.514,1328.44 791.069,1324.58 795.625,1320.69 800.181,1316.78 804.737,1312.84 809.293,1308.87 813.849,1304.89 818.405,1300.87 822.961,1296.84 827.516,1292.78 832.072,1288.69 836.628,1284.58 841.184,1280.45 845.74,1276.29 850.296,1272.11 854.852,1267.9 859.408,1263.67 863.963,1259.42 868.519,1255.15 873.075,1250.85 877.631,1246.53 882.187,1242.18 886.743,1237.81 891.299,1233.42 895.855,1229.01 900.41,1224.58 904.966,1220.12 909.522,1215.64 914.078,1211.14 918.634,1206.62 923.19,1202.08 927.746,1197.52 932.302,1192.93 936.858,1188.33 941.413,1183.7 945.969,1179.06 950.525,1174.39 955.081,1169.71 959.637,1165 964.193,1160.28 968.749,1155.54 973.305,1150.78 977.86,1146 982.416,1141.2 986.972,1136.38 991.528,1131.55 996.084,1126.7 1000.64,1121.83 1005.2,1116.95 1009.75,1112.05 1014.31,1107.13 1018.86,1102.2 1023.42,1097.25 1027.98,1092.29 1032.53,1087.31 1037.09,1082.32 1041.64,1077.31 1046.2,1072.29 1050.75,1067.26 1055.31,1062.21 1059.87,1057.15 1064.42,1052.08 1068.98,1047 1073.53,1041.9 1078.09,1036.79 1082.65,1031.67 1087.2,1026.55 1091.76,1021.41 1096.31,1016.26 1100.87,1011.1 1105.43,1005.93 1109.98,1000.75 1114.54,995.564 1119.09,990.37 1123.65,985.169 1128.2,979.96 1132.76,974.744 1137.32,969.522 1141.87,964.293 1146.43,959.059 1150.98,953.82 1155.54,948.576 1160.1,943.327 1164.65,938.074 1169.21,932.817 1173.76,927.557 1178.32,922.295 1182.87,917.029 1187.43,911.762 1191.99,906.493 1196.54,901.223 1201.1,895.952 1205.65,890.681 1210.21,885.409 1214.77,880.138 1219.32,874.868 1223.88,869.599 1228.43,864.332 1232.99,859.066 1237.55,853.804 1242.1,848.544 1246.66,843.287 1251.21,838.034 1255.77,832.785 1260.32,827.541 1264.88,822.302 1269.44,817.068 1273.99,811.839 1278.55,806.617 1283.1,801.401 1287.66,796.192 1292.22,790.991 1296.77,785.797 1301.33,780.611 1305.88,775.433 1310.44,770.265 1315,765.105 1319.55,759.956 1324.11,754.816 1328.66,749.686 1333.22,744.568 1337.77,739.46 1342.33,734.364 1346.89,729.279 1351.44,724.207 1356,719.147 1360.55,714.1 1365.11,709.066 1369.67,704.046 1374.22,699.04 1378.78,694.048 1383.33,689.07 1387.89,684.107 1392.45,679.16 1397,674.227 1401.56,669.311 1406.11,664.411 1410.67,659.527 1415.22,654.66 1419.78,649.81 1424.34,644.977 1428.89,640.162 1433.45,635.364 1438,630.585 1442.56,625.824 1447.12,621.082 1451.67,616.358 1456.23,611.654 1460.78,606.969 1465.34,602.304 1469.9,597.659 1474.45,593.034 1479.01,588.429 1483.56,583.845 1488.12,579.281 1492.67,574.739 1497.23,570.218 1501.79,565.718 1506.34,561.24 1510.9,556.784 1515.45,552.349 1520.01,547.937 1524.57,543.547 1529.12,539.18 1533.68,534.836 1538.23,530.514 1542.79,526.215 1547.35,521.94 1551.9,517.687 1556.46,513.459 1561.01,509.253 1565.57,505.072 1570.12,500.914 1574.68,496.78 1579.24,492.671 1583.79,488.585 1588.35,484.524 1592.9,480.487 1597.46,476.475 1602.02,472.487 1606.57,468.524 1611.13,464.585 1615.68,460.671 1620.24,456.783 1624.8,452.919 1629.35,449.08 1633.91,445.266 1638.46,441.477 1643.02,437.713 1647.57,433.975 1652.13,430.262 1656.69,426.574 1661.24,422.911 1665.8,419.274 1670.35,415.661 1674.91,412.075 1679.47,408.513 1684.02,404.977 1688.58,401.467 1693.13,397.981 1697.69,394.521 1702.25,391.087 1706.8,387.677 1711.36,384.293 1715.91,380.935 1720.47,377.601 1725.02,374.293 1729.58,371.01 1734.14,367.753 1738.69,364.52 1743.25,361.313 1747.8,358.13 1752.36,354.973 1756.92,351.84 1761.47,348.733 1766.03,345.65 1770.58,342.592 1775.14,339.559 1779.69,336.551 1784.25,333.567 1788.81,330.608 1793.36,327.673 1797.92,324.762 1802.47,321.876 1807.03,319.014 1811.59,316.177 1816.14,313.363 1820.7,310.573 1825.25,307.807 1829.81,305.065 1834.37,302.347 1838.92,299.652 1843.48,296.981 1848.03,294.333 1852.59,291.708 1857.14,289.107 1861.7,286.529 1866.26,283.974 1870.81,281.441 1875.37,278.931 1879.92,276.444 1884.48,273.98 1889.04,271.538 1893.59,269.118 1898.15,266.721 1902.7,264.345 1907.26,261.992 1911.82,259.66 1916.37,257.35 1920.93,255.061 1925.48,252.794 1930.04,250.549 1934.59,248.324 1939.15,246.121 1943.71,243.938 1948.26,241.777 1952.82,239.636 1957.37,237.516 1961.93,235.416 1966.49,233.336 1971.04,231.277 1975.6,229.237 1980.15,227.218 1984.71,225.218 1989.27,223.238 1993.82,221.277 1998.38,219.336 2002.93,217.414 2007.49,215.51 2012.04,213.626 2016.6,211.761 2021.16,209.915 2025.71,208.087 2030.27,206.277 2034.82,204.485 2039.38,202.712 2043.94,200.957 2048.49,199.22 2053.05,197.5 2057.6,195.798 2062.16,194.113 2066.72,192.446 2071.27,190.795 2075.83,189.162 2080.38,187.546 2084.94,185.946 2089.49,184.363 2094.05,182.797 2098.61,181.247 2103.16,179.713 2107.72,178.195 2112.27,176.693 2116.83,175.207 2121.39,173.737 2125.94,172.282 2130.5,170.843 2135.05,169.418 2139.61,168.009 2144.17,166.615 2148.72,165.236 2153.28,163.872 2157.83,162.522 2162.39,161.187 2166.94,159.866 2171.5,158.559 2176.06,157.267 2180.61,155.988 2185.17,154.723 2189.72,153.472 2194.28,152.235 2198.84,151.011 2203.39,149.8 2207.95,148.603 2212.5,147.418 2217.06,146.247 2221.62,145.088 2226.17,143.943 2230.73,142.81 2235.28,141.689 2239.84,140.581 2244.39,139.485 2248.95,138.401 2253.51,137.329 2258.06,136.269 2262.62,135.221 2267.17,134.184 2271.73,133.159 2276.29,132.145 2280.84,131.143 2285.4,130.152 2289.95,129.172 2294.51,128.204 2299.07,127.246 2303.62,126.298 2308.18,125.362 2312.73,124.436 2317.29,123.52 2321.84,122.615 2326.4,121.72 2330.96,120.835 2335.51,119.961 2340.07,119.096 2344.62,118.241 2349.18,117.395 2353.74,116.56 2358.29,115.734 2362.85,114.917 2367.4,114.11 2371.96,113.312 2376.51,112.523 2381.07,111.743 2385.63,110.972 2390.18,110.21 2394.74,109.456 2399.29,108.712 2403.85,107.976 2408.41,107.248 2412.96,106.529 2417.52,105.818 2422.07,105.115 2426.63,104.421 2431.19,103.734 2435.74,103.056 2440.3,102.385 2444.85,101.722 2449.41,101.067 2453.96,100.42 2458.52,99.7798 2463.08,99.1472 2467.63,98.5221 2472.19,97.9042 2476.74,97.2936 2481.3,96.6901 2485.86,96.0937 2490.41,95.5042 2494.97,94.9216 2499.52,94.3459 2504.08,93.777 2508.64,93.2147 2513.19,92.659 2517.75,92.1098 2522.3,91.5672 2526.86,91.0309 2531.41,90.5009 2535.97,89.9771 2540.53,89.4596 2545.08,88.9481 2549.64,88.4427 2554.19,87.9433 2558.75,87.4498 2563.31,86.9621 2567.86,86.4802 2572.42,86.004 \"/>\n",
              "</svg>"
            ]
          }
        }
      ],
      "source": [],
      "id": "8"
    },
    {
      "cell_type": "markdown",
      "metadata": {},
      "source": [
        "**In this problem**:\n",
        "\n",
        "-   Fit a log-normal distribution to the water depth data by maximizing\n",
        "    likelihood.\n",
        "-   Use 10,000 samples from this distribution to estimate the expected\n",
        "    damages from an annual maximum flood event using Monte Carlo\n",
        "    simulation. Report your estimate as well as its standard error.\n",
        "    Would you want to use more samples? Why or why not?\n",
        "\n",
        "### Problem 3"
      ],
      "id": "bb2dc455-be32-48d6-ad79-bdaa733a0608"
    },
    {
      "cell_type": "markdown",
      "metadata": {},
      "source": [
        "<span style=\"color:red;\">GRADED FOR 5850 STUDENTS ONLY</span>\n",
        "\n",
        "Next, your client would like advice on whether it would be\n",
        "cost-effective to elevate their home to reduce flood risks. To address\n",
        "this question, you will need to calculate the **net present value\n",
        "(NPV)** of flooding damages, which converts damages over time to a\n",
        "present value using a discount rate[1] For example, if your discount\n",
        "rate is 4%, a dollar next year is worth the equivalent of about 96 cents\n",
        "today. More generally, with a discount rate of $\\gamma$ (as a decimal),\n",
        "a dollar of benefits in $t$ years is worth $\\$(1-\\gamma)^t$ today.\n",
        "\n",
        "The NPV of a sequence of money $x_t$ with discount rate $\\gamma$ is the\n",
        "sum of all of the discounted values, that is,\n",
        "\n",
        "$$NPV = \\sum_{t=0}^T x_t (1-\\gamma)^t,$$\n",
        "\n",
        "where $T$ is the time horizon. We’ll use a discount rate of 4% in this\n",
        "problem, which is typical for this type of problem, and a design horizon\n",
        "of 30 years.\n",
        "\n",
        "For this problem, we will assume that the cost of elevating the house\n",
        "$\\Delta h$ m is\n",
        "$C(\\Delta h) = \\mathbb{I}[h > 0](100,000 + 2,000\\Delta h)$.\n",
        "\n",
        "[1] Discount rates reduce future monetary values to reflect the\n",
        "time-value of money; that is, you would rather have a bit less money\n",
        "today than none today and more next year, as you could save or invest\n",
        "that money. The actual choice of discount rates is the subject of much\n",
        "economic theory and plays an important role in environmental\n",
        "decision-making, particularly for multi-generational investments such as\n",
        "climate mitigation. For example, with a relatively large discount rate\n",
        "(such as 7%), all costs and benefits after a decade are effectively\n",
        "zero, which means it never appears cost-effective to e.g. reduce fossil\n",
        "fuel emissions."
      ],
      "id": "b26ff19d-bd3c-40b7-838f-fcd2a791bf42"
    },
    {
      "cell_type": "markdown",
      "metadata": {},
      "source": [
        "> **Tip**\n",
        ">\n",
        "> Be careful about the quantity you’re estimating. Calculating the\n",
        "> benefits of elevating by $\\Delta h$ m requires calculating how the\n",
        "> elevation *changes* the flooding damages over the design horizon\n",
        "> *relative to a no-heightening baseline*.\n",
        "\n",
        "**In this problem**:\n",
        "\n",
        "-   Using the extreme water level distribution from Problem 2, use Monte\n",
        "    Carlo simulation to estimate the NPV of the benefits of elevation\n",
        "    levels between 0 and 5m (you don’t have to consider increments finer\n",
        "    than 0.5m). What elevation heights pass the cost-benefit test? You\n",
        "    can assume that the costs of elevation are all up front (that is, in\n",
        "    year 0).\n",
        "-   What height (including a possible elevation of 0m) maximizes the NPV\n",
        "    of net benefits (benefits - ocsts)?[1]\n",
        "\n",
        "[1] This is an example of **Monte Carlo optimization** as you are using\n",
        "Monte Carlo simulation to estimate the optimization objective function."
      ],
      "id": "c7294040-2ad7-4432-9ef1-3e59588f8e7a"
    }
  ],
  "nbformat": 4,
  "nbformat_minor": 5,
  "metadata": {
    "kernel_info": {
      "name": "julia"
    },
    "kernelspec": {
      "name": "julia",
      "display_name": "Julia",
      "language": "julia"
    },
    "language_info": {
      "name": "julia",
      "codemirror_mode": "julia",
      "version": "1.10.4"
    }
  }
}