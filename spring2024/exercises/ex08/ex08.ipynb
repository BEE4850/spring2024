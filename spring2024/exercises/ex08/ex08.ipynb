{
  "cells": [
    {
      "cell_type": "markdown",
      "metadata": {},
      "source": [
        "# Exercise Set 08: The Bootstrap\n",
        "\n",
        "BEE 4850/5850, Fall 2024\n",
        "\n",
        "**Name**:\n",
        "\n",
        "**ID**:\n",
        "\n",
        "> **Due Date**\n",
        ">\n",
        "> Friday, 3/15/24, 9:00pm\n",
        "\n",
        "## Overview"
      ],
      "id": "e3137239-d763-4242-9810-28741371eede"
    },
    {
      "cell_type": "markdown",
      "metadata": {},
      "source": [
        "### Instructions\n",
        "\n",
        "The goal of this exercise is for you to explore the differences in the\n",
        "confidence intervals produced by a non-parametric and parametric\n",
        "bootstrap."
      ],
      "id": "a4034dc4-5916-44ee-9ca1-a33c8797148c"
    },
    {
      "cell_type": "markdown",
      "metadata": {},
      "source": [
        "### Load Environment\n",
        "\n",
        "The following code loads the environment and makes sure all needed\n",
        "packages are installed. This should be at the start of most Julia\n",
        "scripts."
      ],
      "id": "4742d1b6-3b60-44e6-b5a0-fde73d818378"
    },
    {
      "cell_type": "code",
      "execution_count": 1,
      "metadata": {},
      "outputs": [],
      "source": [
        "import Pkg\n",
        "Pkg.activate(@__DIR__)\n",
        "Pkg.instantiate()"
      ],
      "id": "2"
    },
    {
      "cell_type": "markdown",
      "metadata": {},
      "source": [
        "The following packages are included in the environment (to help you find\n",
        "other similar packages in other languages). The code below loads these\n",
        "packages for use in the subsequent notebook (the desired functionality\n",
        "for each package is commented next to the package)."
      ],
      "id": "fa509e3b-63b0-4703-842e-b8ec6777ee7d"
    },
    {
      "cell_type": "code",
      "execution_count": 1,
      "metadata": {},
      "outputs": [],
      "source": [
        "using Distributions # API to work with statistical distributions\n",
        "using Plots # plotting library\n",
        "using StatsBase # statistical quantities like mean, median, etc\n",
        "using StatsPlots # some additional statistical plotting tools\n",
        "using DataFrames # tabular data storage\n",
        "using DataFramesMeta # API for chaining DataFrames commands\n",
        "using Dates # datetime API\n",
        "using CSV # read/write CSV files\n",
        "using Random"
      ],
      "id": "4"
    },
    {
      "cell_type": "markdown",
      "metadata": {},
      "source": [
        "## Problems\n",
        "\n",
        "### Problem 1\n",
        "\n",
        "Let’s revisit the 2015 Sewell’s Point tide gauge data, which consists of\n",
        "hourly observations and predicted sea-level based on NOAA’s harmonic\n",
        "model, as shown in\n",
        "<a href=\"#fig-norfolk-data\" class=\"quarto-xref\">Figure 1</a>."
      ],
      "id": "69288da1-880b-412f-8a81-24b3bcf1cc75"
    },
    {
      "cell_type": "code",
      "execution_count": 1,
      "metadata": {},
      "outputs": [],
      "source": [
        "function load_data(fname)\n",
        "    date_format = \"yyyy-mm-dd HH:MM\"\n",
        "    # this uses the DataFramesMeta package -- it's pretty cool\n",
        "    return @chain fname begin\n",
        "        CSV.File(; dateformat=date_format)\n",
        "        DataFrame\n",
        "        rename(\n",
        "            \"Time (GMT)\" => \"time\", \"Predicted (m)\" => \"harmonic\", \"Verified (m)\" => \"gauge\"\n",
        "        )\n",
        "        @transform :datetime = (Date.(:Date, \"yyyy/mm/dd\") + Time.(:time))\n",
        "        select(:datetime, :gauge, :harmonic)\n",
        "        @transform :weather = :gauge - :harmonic\n",
        "        @transform :month = (month.(:datetime))\n",
        "    end\n",
        "end\n",
        "\n",
        "dat = load_data(\"data/norfolk-hourly-surge-2015.csv\")\n",
        "\n",
        "plot(dat.datetime, dat.gauge; ylabel=\"Gauge Measurement (m)\", label=\"Observed\", legend=:topleft, xlabel=\"Date/Time\", color=:blue)\n",
        "plot!(dat.datetime, dat.harmonic, label=\"Prediction\", color=:orange)"
      ],
      "id": "cell-fig-norfolk-data"
    },
    {
      "cell_type": "markdown",
      "metadata": {},
      "source": [
        "We detrend the data to isolate the weather-induced variability by\n",
        "subtracting the predictions from the observations; the results\n",
        "(following the Julia code) are in `dat[:, :weather]`, visualized in\n",
        "<a href=\"#fig-norfolk-data-detrend\" class=\"quarto-xref\">Figure 2</a>."
      ],
      "id": "96ff712f-505b-4e0a-a72e-5292fbfb5f7f"
    },
    {
      "cell_type": "code",
      "execution_count": 1,
      "metadata": {},
      "outputs": [],
      "source": [
        "plot(dat.datetime, dat.weather; ylabel=\"Gauge Weather Variability (m)\", label=\"Detrended Data\", linewidth=1, legend=:topleft, xlabel=\"Date/Time\")"
      ],
      "id": "cell-fig-norfolk-data-detrend"
    },
    {
      "cell_type": "markdown",
      "metadata": {},
      "source": [
        "We would like to understand the uncertainty in an estimate of the median\n",
        "level of weather-induced variability.\n",
        "\n",
        "**In this problem**:\n",
        "\n",
        "-   Use 1,000 non-parametric bootstrap samples to compute a 95%\n",
        "    confidence interval for the median.\n",
        "-   Assuming the weather-induced variability is independently and\n",
        "    identically distributed according to a normal distribution, compute\n",
        "    a 95% confidence interval using 1,000 parametric bootstrap samples.\n",
        "-   Compare the two confidence intervals.\n",
        "-   What can you say about the bias of the median as an estimator?"
      ],
      "id": "03f9e1de-1b22-4862-91c5-cb891b40d385"
    }
  ],
  "nbformat": 4,
  "nbformat_minor": 5,
  "metadata": {
    "kernel_info": {
      "name": "julia"
    },
    "kernelspec": {
      "name": "julia",
      "display_name": "Julia",
      "language": "julia"
    },
    "language_info": {
      "name": "julia",
      "codemirror_mode": "julia",
      "version": "1.10.4"
    }
  }
}