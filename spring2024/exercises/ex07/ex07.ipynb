{
  "cells": [
    {
      "cell_type": "markdown",
      "metadata": {},
      "source": [
        "# Exercise Set 07: Monte Carlo Simulations\n",
        "\n",
        "BEE 4850/5850, Fall 2024\n",
        "\n",
        "**Name**:\n",
        "\n",
        "**ID**:\n",
        "\n",
        "> **Due Date**\n",
        ">\n",
        "> Friday, 3/08/24, 9:00pm\n",
        "\n",
        "## Overview"
      ],
      "id": "fececdc6-eb4a-48b3-a760-1c25ae256528"
    },
    {
      "cell_type": "markdown",
      "metadata": {},
      "source": [
        "### Instructions\n",
        "\n",
        "The goal of this exercise is for you to explore how sensitive Monte\n",
        "Carlo estimates can be to the underlying probability distribution(s)."
      ],
      "id": "0bef727c-910e-4329-a551-ceb030b256d1"
    },
    {
      "cell_type": "markdown",
      "metadata": {},
      "source": [
        "### Load Environment\n",
        "\n",
        "The following code loads the environment and makes sure all needed\n",
        "packages are installed. This should be at the start of most Julia\n",
        "scripts."
      ],
      "id": "b5e3c1d5-9089-4509-ac37-b6c64c9ecd82"
    },
    {
      "cell_type": "code",
      "execution_count": 1,
      "metadata": {},
      "outputs": [],
      "source": [
        "import Pkg\n",
        "Pkg.activate(@__DIR__)\n",
        "Pkg.instantiate()"
      ],
      "id": "2"
    },
    {
      "cell_type": "markdown",
      "metadata": {},
      "source": [
        "The following packages are included in the environment (to help you find\n",
        "other similar packages in other languages). The code below loads these\n",
        "packages for use in the subsequent notebook (the desired functionality\n",
        "for each package is commented next to the package)."
      ],
      "id": "49d67b66-936f-4acc-b772-2906d545d045"
    },
    {
      "cell_type": "code",
      "execution_count": 1,
      "metadata": {},
      "outputs": [],
      "source": [
        "using Distributions # API to work with statistical distributions\n",
        "using Plots # plotting library\n",
        "using StatsBase # statistical quantities like mean, median, etc\n",
        "using StatsPlots # some additional statistical plotting tools"
      ],
      "id": "4"
    },
    {
      "cell_type": "markdown",
      "metadata": {},
      "source": [
        "## Problems"
      ],
      "id": "beaa4b7f-dfce-43a6-b938-2fba384962b4"
    },
    {
      "cell_type": "markdown",
      "metadata": {},
      "source": [
        "### Problem 1"
      ],
      "id": "6a2983bb-6a30-45cf-b50a-09ad21f8c98a"
    },
    {
      "cell_type": "markdown",
      "metadata": {},
      "source": [
        "A common engineering problem is to quantify flood risk, which is\n",
        "typically computed by propagating a flood hazard distribution through a\n",
        "*depth-damage function* relating flood depths to economic damages. A\n",
        "reasonable depth-damage function is a bounded logistic function,\n",
        "$$d(h) = \\mathbb{1}_{x > 0} \\frac{L}{1 + \\exp(-k (x - x_0))},$$\n",
        "\n",
        "where $d$ is the damage as a percent of total structure value, $h$ is\n",
        "the water depth in m, $\\mathbb{1}_{x > 0}$ is the indicator function,\n",
        "$L$ is the maximum loss in USD, $k$ is the slope of the depth-damage\n",
        "relationship, and $x_0$ is the inflection point. We’ll assume\n",
        "$L=\\$200,000$, $k=0.75$, and $x_0=4$.\n",
        "\n",
        "For this problem, suppose that we have two different probability\n",
        "distributions characterizing annual maxima flood depths:\n",
        "\n",
        "1.  $h \\sim LogNormal(1.5, 0.25)$;\n",
        "2.  $h \\sim GEV(4.5, 1.5, 0.3)$.\n",
        "\n",
        "To control for the variances in different programming languages and how\n",
        "they implement both the LogNormal and GEV distributions, match your\n",
        "distributions to the figure below."
      ],
      "id": "d4d9ffd5-080a-4445-b019-d300908d2f39"
    },
    {
      "cell_type": "code",
      "execution_count": 1,
      "metadata": {},
      "outputs": [],
      "source": [
        "plot(LogNormal(1.5, 0.3), xlims=(0, 10), xlabel=\"Annual Maximum Flood Depth\", ylabel=\"Probability Density\", label=\"LogNormal(1.5, 0.25)\")\n",
        "plot!(GeneralizedExtremeValue(4.5, 1.5, 0.3), label=\"GEV(4.5, 1.5, 0.3)\")"
      ],
      "id": "6"
    },
    {
      "cell_type": "markdown",
      "metadata": {},
      "source": [
        "What are the Monte Carlo estimates of the expected value and the 99%\n",
        "quantile for the annual maximum damage the structure would suffer for\n",
        "each of these flood hazard distributions? How did you ensure your sample\n",
        "size was sufficiently large? Why do you think the estimates differed or\n",
        "did not differ?\n",
        "\n",
        "## References"
      ],
      "id": "663ccc56-202f-45da-9a03-8b4d03426c67"
    }
  ],
  "nbformat": 4,
  "nbformat_minor": 5,
  "metadata": {
    "kernel_info": {
      "name": "julia"
    },
    "kernelspec": {
      "name": "julia",
      "display_name": "Julia",
      "language": "julia"
    },
    "language_info": {
      "name": "julia",
      "codemirror_mode": "julia",
      "version": "1.10.4"
    }
  }
}