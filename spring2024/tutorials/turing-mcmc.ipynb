{
  "cells": [
    {
      "cell_type": "markdown",
      "metadata": {},
      "source": [
        "# Markov Chain Monte Carlo With Turing\n",
        "\n",
        "## Overview\n",
        "\n",
        "This tutorial will give some examples of using `Turing.jl` and Markov\n",
        "Chain Monte Carlo to sample from posterior distributions.\n",
        "\n",
        "## Setup"
      ],
      "id": "9f462ae6-f7c7-44f8-87e3-57636b9d8a59"
    },
    {
      "cell_type": "code",
      "execution_count": 1,
      "metadata": {},
      "outputs": [],
      "source": [
        "using Turing\n",
        "using Distributions\n",
        "using Plots\n",
        "default(fmt = :png) # the tide gauge data is long, this keeps images a manageable size\n",
        "using LaTeXStrings\n",
        "using StatsPlots\n",
        "using Measures\n",
        "using StatsBase\n",
        "using Optim\n",
        "using Random\n",
        "using DataFrames\n",
        "using DataFramesMeta\n",
        "using Dates\n",
        "using CSV"
      ],
      "id": "4"
    },
    {
      "cell_type": "markdown",
      "metadata": {},
      "source": [
        "As this tutorial involves random number generation, we will set a random\n",
        "seed to ensure reproducibility."
      ],
      "id": "61895c81-f354-48ac-b786-97cf35631fa4"
    },
    {
      "cell_type": "code",
      "execution_count": 1,
      "metadata": {},
      "outputs": [],
      "source": [
        "\n",
        "Random.seed!(1);"
      ],
      "id": "6"
    },
    {
      "cell_type": "markdown",
      "metadata": {},
      "source": [
        "## Fitting A Linear Regression Model\n",
        "\n",
        "Let’s start with a simple example: fitting a linear regression model to\n",
        "simulated data.\n",
        "\n",
        "> **Positive Control Tests**\n",
        ">\n",
        "> Simulating data with a known data-generating process and then trying\n",
        "> to obtain the parameters for that process is an important step in any\n",
        "> workflow.\n",
        "\n",
        "### Simulating Data\n",
        "\n",
        "The data-generating process for this example will be: $$\n",
        "\\begin{gather}\n",
        "y = 5 + 2x + \\varepsilon \\\\\n",
        "\\varepsilon \\sim \\text{Normal}(0, 3),\n",
        "\\end{gather}\n",
        "$$ where $\\varepsilon$ is so-called “white noise”, which adds\n",
        "stochasticity to the data set. The generated dataset is shown in\n",
        "<a href=\"#fig-scatter-regression\" class=\"quarto-xref\">Figure 1</a>."
      ],
      "id": "9e333434-cdf9-4695-a311-9d7415235568"
    },
    {
      "cell_type": "code",
      "execution_count": 1,
      "metadata": {},
      "outputs": [],
      "source": [],
      "id": "cell-fig-scatter-regression"
    },
    {
      "cell_type": "markdown",
      "metadata": {},
      "source": [
        "### Model Specification\n",
        "\n",
        "The statistical model for a standard linear regression problem is $$\n",
        "\\begin{gather}\n",
        "y = a + bx + \\varepsilon \\\\\n",
        "\\varepsilon \\sim \\text{Normal}(0, \\sigma).\n",
        "\\end{gather}\n",
        "$$\n",
        "\n",
        "Rearranging, we can rewrite the likelihood function as:\n",
        "$$y \\sim \\text{Normal}(\\mu, \\sigma),$$ where $\\mu = a + bx$. This means\n",
        "that we have three parameters to fit: $a$, $b$, and $\\sigma^2$.\n",
        "\n",
        "Next, we need to select priors on our parameters. We’ll use relatively\n",
        "generic distributions to avoid using the information we have (since we\n",
        "generated the data ourselves), but in practice, we’d want to use any\n",
        "relevant information that we had from our knowledge of the problem.\n",
        "Let’s use relatively diffuse normal distributions for the trend\n",
        "parameters $a$ and $b$ and a half-normal distribution (a normal\n",
        "distribution truncated at 0, to only allow positive values) for the\n",
        "variance $\\sigma^2$, as recommended by Gelman (2006).\n",
        "\n",
        "$$\n",
        "\\begin{gather}\n",
        "a \\sim \\text{Normal(0, 10)} \\\\\n",
        "b \\sim \\text{Normal(0, 10)} \\\\\n",
        "\\sigma \\sim \\text{Half-Normal}(0, 25)\n",
        "\\end{gather}\n",
        "$$\n",
        "\n",
        "### Using Turing\n",
        "\n",
        "#### Coding the Model\n",
        "\n",
        "`Turing.jl` uses the `@model` macro to specify the model function. We’ll\n",
        "follow the setup in the [Turing\n",
        "documentation](https://turinglang.org/dev/tutorials/05-linear-regression).\n",
        "\n",
        "To specify distributions on parameters (and the data, which can be\n",
        "thought of as uncertain parameters in Bayesian statistics), use a tilde\n",
        "`~`, and use equals `=` for transformations (which we don’t have in this\n",
        "case)."
      ],
      "id": "5fe78a55-eddd-4263-a56b-f8c6fa47ba0c"
    },
    {
      "cell_type": "code",
      "execution_count": 1,
      "metadata": {},
      "outputs": [
        {
          "output_type": "display_data",
          "metadata": {},
          "data": {
            "text/plain": [
              "linear_regression (generic function with 2 methods)"
            ]
          }
        }
      ],
      "source": [
        "\n",
        "@model function linear_regression(x, y)\n",
        "    # set priors\n",
        "    σ ~ truncated(Normal(0, 25); lower=0)\n",
        "    a ~ Normal(0, 10)\n",
        "    b ~ Normal(0, 10)\n",
        "\n",
        "    # compute the likelihood\n",
        "    for i = 1:length(y)\n",
        "        # compute the mean value for the data point\n",
        "        μ = a + b * x[i]\n",
        "        y[i] ~ Normal(μ, σ)\n",
        "    end\n",
        "end"
      ],
      "id": "10"
    },
    {
      "cell_type": "markdown",
      "metadata": {},
      "source": [
        "#### Fitting The Model\n",
        "\n",
        "Now we can call the sampler to draw from the posterior. We’ll use the\n",
        "[No-U-Turn\n",
        "sampler](https://en.wikipedia.org/wiki/Hamiltonian_Monte_Carlo#No_U-Turn_Sampler)\n",
        "(Hoffman & Gelman, 2014), which is a Hamiltonian Monte Carlo algorithm\n",
        "(a different category of MCMC sampler than the Metropolis-Hastings\n",
        "algorithm discussed in class). We’ll also use 4 chains so we can test\n",
        "that the chains are well-mixed, and each chain will be run for 5,000\n",
        "iterations[1]\n",
        "\n",
        "[1] Hamiltonian Monte Carlo samplers often need to be run for fewer\n",
        "iterations than Metropolis-Hastings samplers, as the exploratory step\n",
        "uses information about the gradient of the statistical model, versus the\n",
        "random walk of Metropolis-Hastings. The disadvantage is that this\n",
        "gradient information must be available, which is not always the case for\n",
        "external simulation models. Simulation models coded in Julia can usually\n",
        "be automatically differentiated by Turing’s tools, however."
      ],
      "id": "515882a7-fcb8-4ac0-8404-ea5b42f6e5ee"
    },
    {
      "cell_type": "code",
      "execution_count": 1,
      "metadata": {},
      "outputs": [
        {
          "output_type": "display_data",
          "metadata": {},
          "data": {
            "text/html": [
              "<pre>Chains MCMC chain (5000×15×4 Array{Float64, 3}):\n",
              "\n",
              "Iterations        = 1001:1:6000\n",
              "Number of chains  = 4\n",
              "Samples per chain = 5000\n",
              "Wall duration     = 8.41 seconds\n",
              "Compute duration  = 6.96 seconds\n",
              "parameters        = σ, a, b\n",
              "internals         = lp, n_steps, is_accept, acceptance_rate, log_density, hamiltonian_energy, hamiltonian_energy_error, max_hamiltonian_energy_error, tree_depth, numerical_error, step_size, nom_step_size\n",
              "\n",
              "Summary Statistics\n",
              " <span class=\"ansi-bold\"> parameters </span> <span class=\"ansi-bold\">    mean </span> <span class=\"ansi-bold\">     std </span> <span class=\"ansi-bold\">    mcse </span> <span class=\"ansi-bold\">  ess_bulk </span> <span class=\"ansi-bold\">  ess_tail </span> <span class=\"ansi-bold\">    rhat </span>  ⋯\n",
              " <span class=\"ansi-bright-black-fg\">     Symbol </span> <span class=\"ansi-bright-black-fg\"> Float64 </span> <span class=\"ansi-bright-black-fg\"> Float64 </span> <span class=\"ansi-bright-black-fg\"> Float64 </span> <span class=\"ansi-bright-black-fg\">   Float64 </span> <span class=\"ansi-bright-black-fg\">   Float64 </span> <span class=\"ansi-bright-black-fg\"> Float64 </span>  ⋯\n",
              "\n",
              "           σ    5.3995    0.9907    0.0106   8907.8053   8357.6551    1.0008   ⋯\n",
              "           a    7.3413    2.1497    0.0228   8980.2158   9558.6500    1.0006   ⋯\n",
              "           b    1.7991    0.1916    0.0020   8980.6008   9477.6142    1.0006   ⋯\n",
              "<span class=\"ansi-cyan-fg\">                                                                1 column omitted</span>\n",
              "\n",
              "Quantiles\n",
              " <span class=\"ansi-bold\"> parameters </span> <span class=\"ansi-bold\">    2.5% </span> <span class=\"ansi-bold\">   25.0% </span> <span class=\"ansi-bold\">   50.0% </span> <span class=\"ansi-bold\">   75.0% </span> <span class=\"ansi-bold\">   97.5% </span>\n",
              " <span class=\"ansi-bright-black-fg\">     Symbol </span> <span class=\"ansi-bright-black-fg\"> Float64 </span> <span class=\"ansi-bright-black-fg\"> Float64 </span> <span class=\"ansi-bright-black-fg\"> Float64 </span> <span class=\"ansi-bright-black-fg\"> Float64 </span> <span class=\"ansi-bright-black-fg\"> Float64 </span>\n",
              "\n",
              "           σ    3.8939    4.6953    5.2650    5.9393    7.7752\n",
              "           a    2.9639    5.9700    7.3826    8.7456   11.5116\n",
              "           b    1.4242    1.6757    1.7948    1.9202    2.1879\n",
              "</pre>"
            ]
          }
        }
      ],
      "source": [
        "# set up the sampler\n",
        "model = linear_regression(x, y)\n",
        "n_chains = 4\n",
        "n_per_chain = 5000\n",
        "chain = sample(model, NUTS(), MCMCThreads(), n_per_chain, n_chains, drop_warmup=true)\n",
        "@show chain"
      ],
      "id": "12"
    },
    {
      "cell_type": "markdown",
      "metadata": {},
      "source": [
        "How can we interpret the output? The first parts of the summary\n",
        "statistics are straightforward: we get the mean, standard deviation, and\n",
        "Monte Carlo standard error (`mcse`) of each parameter. We also get\n",
        "information about the effective sample size (ESS)[1] and $\\hat{R}$,\n",
        "which measures the ratio of within-chain variance and across-chain\n",
        "variance as a check for convergence[2].\n",
        "\n",
        "In this case, we can see that we were generally able to recover the\n",
        "“true” data-generating values of $\\sigma = 4$ and $b = 2$, but $a$ is\n",
        "slightly off (the mean is 3, rather than the data-generating value of\n",
        "5). In fact, there is substantial uncertainty about $a$, with a 95%\n",
        "credible interval of $(3.1, 11.4)$ (compared to $(1.4, 2.2)$ for $b$).\n",
        "This isn’t surprising: given the variance of the noise $\\sigma^2$, there\n",
        "are many different intercepts which could fit within that spread.\n",
        "\n",
        "Let’s now plot the chains for visual inspection.\n",
        "\n",
        "[1] The ESS reflects the efficiency of the sampler: this is an estimate\n",
        "of the equivalent number of independent samples; the more correlated the\n",
        "samples, the lower the ESS.\n",
        "\n",
        "[2] The closer $\\hat{R}$ is to 1, the better."
      ],
      "id": "29440752-0026-428c-a5d4-7fc8d3694b83"
    },
    {
      "cell_type": "code",
      "execution_count": 1,
      "metadata": {},
      "outputs": [],
      "source": [
        "plot(chain)"
      ],
      "id": "cell-fig-chains-regression"
    },
    {
      "cell_type": "markdown",
      "metadata": {},
      "source": [
        "We can see from\n",
        "<a href=\"#fig-chains-regression\" class=\"quarto-xref\">Figure 2</a> that\n",
        "our chains mixed well and seem to have converged to similar\n",
        "distributions! The traceplots have a “hairy caterpiller” appearance,\n",
        "suggesting relatively little autocorrelation. We can also see how much\n",
        "more uncertainty there is with the intercept $a$, while the slope $b$ is\n",
        "much more constrained.\n",
        "\n",
        "Another interesting comparison we can make is with the\n",
        "maximum-likelihood estimate (MLE), which we can obtain through\n",
        "optimization."
      ],
      "id": "1db677d4-0273-445c-9e2c-5dfd63c72a44"
    },
    {
      "cell_type": "code",
      "execution_count": 1,
      "metadata": {},
      "outputs": [],
      "source": [
        "mle_model = linear_regression(x, y)\n",
        "mle = optimize(mle_model, MLE())\n",
        "coef(mle)"
      ],
      "id": "16"
    },
    {
      "cell_type": "markdown",
      "metadata": {},
      "source": [
        "We could also get the maximum *a posteriori* (MAP) estimate, which\n",
        "includes the prior density, by replacing `MLE()` with `MAP()`.\n",
        "\n",
        "### Model Diagnostics and Posterior Predictive Checks\n",
        "\n",
        "One advantage of the Bayesian modeling approach here is that we have\n",
        "access to a *generative model*, or a model which we can use to generate\n",
        "datasets. This means that we can now use Monte Carlo simulation,\n",
        "sampling from our posteriors, to look at how uncertainty in the\n",
        "parameter estimates propagates through the model. Let’s write a function\n",
        "which gets samples from the MCMC chains and generates datasets."
      ],
      "id": "275c2b8c-990f-44a2-840f-ae5d050e1258"
    },
    {
      "cell_type": "code",
      "execution_count": 1,
      "metadata": {},
      "outputs": [
        {
          "output_type": "display_data",
          "metadata": {},
          "data": {
            "text/plain": [
              "mc_predict_regression (generic function with 1 method)"
            ]
          }
        }
      ],
      "source": [
        "function mc_predict_regression(x, chain)\n",
        "    # get the posterior samples\n",
        "    a = Array(group(chain, :a))\n",
        "    b = Array(group(chain, :b))\n",
        "    σ = Array(group(chain, :σ))\n",
        "\n",
        "    # loop and generate alternative realizations\n",
        "    μ = a' .+ x * b'\n",
        "    y = zeros((length(x), length(a)))\n",
        "    for i = 1:length(a)\n",
        "        y[:, i] = rand.(Normal.(μ[:, i], σ[i]))\n",
        "    end\n",
        "    return y\n",
        "end"
      ],
      "id": "18"
    },
    {
      "cell_type": "markdown",
      "metadata": {},
      "source": [
        "Now we can generate a predictive interval and median and compare to the\n",
        "data."
      ],
      "id": "9670dc6e-a110-4655-b910-977d0965a82a"
    },
    {
      "cell_type": "code",
      "execution_count": 1,
      "metadata": {},
      "outputs": [
        {
          "output_type": "display_data",
          "metadata": {},
          "data": {
            "text/plain": [
              "21×20000 Matrix{Float64}:\n",
              " -2.40865    1.9357    10.5589    15.7446   …   6.26661    0.222214  10.1702\n",
              " 10.7976    18.8545     0.296641   3.38924     10.5971    10.8189    15.9384\n",
              " -0.417529  -0.885769   5.56482    7.39414     -0.981201   7.27796    6.9013\n",
              "  4.33488   11.1663     9.51384    9.95352      5.88792   10.313     11.4574\n",
              "  5.26926    5.42713   20.2392    13.7574      17.4582    10.5193     8.7948\n",
              " 15.825     16.9226    19.3498    28.6916   …  13.6763    15.6275     6.24528\n",
              " 16.504     14.0514    13.6398    18.3671      14.349     18.3797    14.9837\n",
              " 23.6586    26.4983    29.1236    21.162       20.1668    20.2031    28.3504\n",
              " 16.5461    23.2524    20.7667    22.3589      12.5181     9.4516    12.7805\n",
              " 32.7533    13.6189    17.0692    26.5378      26.2872    16.5962    26.4759\n",
              "  ⋮                                         ⋱                        \n",
              " 30.6918    18.5685    30.0918    34.6757      23.5247    27.7565    28.9372\n",
              " 27.8009    39.4466    34.1512    34.7717      30.2555    36.9157    26.2247\n",
              " 26.9089    34.0929    36.0757    39.6863      28.6581    33.8906    35.4109\n",
              " 44.642     31.9187    37.0507    25.4562   …  34.3312    27.4952    23.2894\n",
              " 47.9252    36.3149    34.642     37.9717      41.1715    34.784     36.6823\n",
              " 39.9288    27.0537    33.4583    42.8428      41.3582    32.8539    31.7867\n",
              " 44.4605    34.1545    46.2137    35.4133      42.2067    39.4086    36.1819\n",
              " 43.712     42.4212    41.7049    50.7652      51.3167    33.0422    49.135\n",
              " 45.9144    43.2963    52.2372    50.891    …  39.7291    52.5323    46.89"
            ]
          }
        }
      ],
      "source": [
        "x_pred = 0:20\n",
        "y_pred = mc_predict_regression(x_pred, chain)"
      ],
      "id": "20"
    },
    {
      "cell_type": "markdown",
      "metadata": {},
      "source": [
        "Notice the dimension of `y_pred`: we have 20,000 columns, because we\n",
        "have 4 chains with 5,000 samples each. If we had wanted to subsample\n",
        "(which might be necessary if we had hundreds of thousands or millions of\n",
        "samples), we could have done that within `mc_linear_regression` before\n",
        "simulation."
      ],
      "id": "b83a42dc-82e9-4ee6-b2b3-55e7c445ca4c"
    },
    {
      "cell_type": "code",
      "execution_count": 1,
      "metadata": {},
      "outputs": [],
      "source": [
        "# get the boundaries for the 95% prediction interval and the median\n",
        "y_ci_low = quantile.(eachrow(y_pred), 0.025)\n",
        "y_ci_hi = quantile.(eachrow(y_pred), 0.975)\n",
        "y_med = quantile.(eachrow(y_pred), 0.5)"
      ],
      "id": "22"
    },
    {
      "cell_type": "markdown",
      "metadata": {},
      "source": [
        "Now, let’s plot the prediction interval and median, and compare to the\n",
        "original data."
      ],
      "id": "09811cfc-1882-49ea-a5af-676ed709aea6"
    },
    {
      "cell_type": "code",
      "execution_count": 1,
      "metadata": {},
      "outputs": [],
      "source": [
        "# plot prediction interval\n",
        "plot(x_pred, y_ci_low, fillrange=y_ci_hi, xlabel=L\"$x$\", ylabel=L\"$y$\", fillalpha=0.3, fillcolor=:blue, label=\"95% Prediction Interval\", legend=:topleft, linealpha=0)\n",
        "plot!(x_pred, y_med, color=:blue, label=\"Prediction Median\")\n",
        "scatter!(x, y, color=:red, label=\"Data\")"
      ],
      "id": "cell-fig-prediction-regression"
    },
    {
      "cell_type": "markdown",
      "metadata": {},
      "source": [
        "From\n",
        "<a href=\"#fig-prediction-regression\" class=\"quarto-xref\">Figure 3</a>,\n",
        "it looks like our model might be slightly under-confident, as with 20\n",
        "data points, we would expect 5% of them (or 1 data point) to be outside\n",
        "the 95% prediction interval. It’s hard to tell with only 20 data points,\n",
        "though! We could resolve this by tightening our priors, but this depends\n",
        "on how much information we used to specify them in the first place. The\n",
        "goal shouldn’t be to hit a specific level of uncertainty, but if there\n",
        "is a sound reason to tighten the priors, we could do so.\n",
        "\n",
        "Now let’s look at the residuals from the posterior median and the data.\n",
        "The partial autocorrelations plotted in\n",
        "<a href=\"#fig-residuals-regression\" class=\"quarto-xref\">Figure 4</a> are\n",
        "not fully convincing, as there are large autocorrelation coefficients\n",
        "with long lags, but the dataset is quite small, so it’s hard to draw\n",
        "strong conclusions. We won’t go further down this rabbit hole as we know\n",
        "our data-generating process involved independent noise, but for a real\n",
        "dataset, we might want to try a model specification with autocorrelated\n",
        "errors to compare."
      ],
      "id": "0dd7f05a-fb60-4782-9604-56a2410dd8fd"
    },
    {
      "cell_type": "code",
      "execution_count": 1,
      "metadata": {},
      "outputs": [],
      "source": [
        "# calculate the median predictions and residuals\n",
        "y_pred_data = mc_predict_regression(x, chain)\n",
        "y_med_data = quantile.(eachrow(y_pred_data), 0.5)\n",
        "residuals = y_med_data .- y\n",
        "\n",
        "# plot the residuals and a line to show the zero\n",
        "plot(pacf(residuals, 1:4), line=:stem, marker=:circle, legend=:false, grid=:false, linewidth=2, xlabel=\"Lag\", ylabel=\"Partial Autocorrelation\", markersize=8, tickfontsize=14, guidefontsize=16, legendfontsize=16)\n",
        "hline!([0], linestyle=:dot, color=:red)"
      ],
      "id": "cell-fig-residuals-regression"
    },
    {
      "cell_type": "markdown",
      "metadata": {},
      "source": [
        "## Fitting Extreme Value Models to Tide Gauge Data\n",
        "\n",
        "Let’s now look at an example of fitting an extreme value distribution\n",
        "(namely, a [generalized extreme value\n",
        "distribution](https://en.wikipedia.org/wiki/Generalized_extreme_value_distribution),\n",
        "or GEV) to tide gauge data. GEV distributions have three parameters:\n",
        "\n",
        "-   $\\mu$, the *location* parameter, which reflects the positioning of\n",
        "    the bulk of the GEV distribution;\n",
        "-   $\\sigma$, the *scale* parameter, which reflects the width of the\n",
        "    bulk;\n",
        "-   $\\xi$, the *shape* parameter, which reflects the thickness and\n",
        "    boundedness of the tail.\n",
        "\n",
        "The shape parameter $\\xi$ is often of interest, as there are three\n",
        "classes of GEV distributions corresponding to different signs:\n",
        "\n",
        "-   $\\xi < 0$ means that the distribution is bounded;\n",
        "-   $\\xi = 0$ means that the distribution has a thinner tail, so the\n",
        "    “extreme extremes” are less likely;\n",
        "-   $\\xi > 0$ means that the distribution has a thicker tail.\n",
        "\n",
        "### Load Data\n",
        "\n",
        "First, let’s load the data. We’ll use [data from the University of\n",
        "Hawaii Sea Level Center](https://uhslc.soest.hawaii.edu/datainfo/)\n",
        "(Caldwell et al., 2015) for San Francisco, from 1897-2013. If you don’t\n",
        "have this data and are working with the notebook, download it\n",
        "[here](https://uhslc.soest.hawaii.edu/data/csv/rqds/hourly/h551a.csv).\n",
        "We’ll assume it’s in a `data/` subdirectory, but change the path as\n",
        "needed.\n",
        "\n",
        "The dataset consists of dates and hours and the tide-gauge measurement,\n",
        "in mm. We’ll load the dataset into a `DataFrame`."
      ],
      "id": "399264b2-aeab-4c50-836a-1347f670f2d6"
    },
    {
      "cell_type": "code",
      "execution_count": 1,
      "metadata": {},
      "outputs": [
        {
          "output_type": "display_data",
          "metadata": {},
          "data": {
            "text/plain": [
              "load_data (generic function with 1 method)"
            ]
          }
        }
      ],
      "source": [
        "function load_data(fname)\n",
        "    date_format = DateFormat(\"yyyy-mm-dd HH:MM:SS\")\n",
        "    df = @chain fname begin\n",
        "        CSV.File(; delim=',', header=false)\n",
        "        DataFrame\n",
        "        rename(\"Column1\" => \"year\",\n",
        "                \"Column2\" => \"month\",\n",
        "                \"Column3\" => \"day\",\n",
        "                \"Column4\" => \"hour\",\n",
        "                \"Column5\" => \"gauge\")\n",
        "        # need to reformat the decimal date in the data file\n",
        "        @transform :datetime = DateTime.(:year, :month, :day, :hour)\n",
        "        # replace -99999 with missing\n",
        "        @transform :gauge = ifelse.(abs.(:gauge) .>= 9999, missing, :gauge)\n",
        "        select(:datetime, :gauge)\n",
        "    end\n",
        "    return df\n",
        "end"
      ],
      "id": "28"
    },
    {
      "cell_type": "code",
      "execution_count": 1,
      "metadata": {},
      "outputs": [],
      "source": [
        "dat = load_data(\"data/h551a.csv\")\n",
        "first(dat, 6)"
      ],
      "id": "7e29f277-6b60-412b-ae5d-614c6de72ae3"
    },
    {
      "cell_type": "code",
      "execution_count": 1,
      "metadata": {},
      "outputs": [],
      "source": [
        "@df dat plot(:datetime, :gauge, label=\"Observations\", bottom_margin=9mm)\n",
        "xaxis!(\"Date\", xrot=30)\n",
        "yaxis!(\"Mean Water Level\")"
      ],
      "id": "cell-fig-raw-data"
    },
    {
      "cell_type": "markdown",
      "metadata": {},
      "source": [
        "Next, we need to detrend the data to remove the impacts of sea-level\n",
        "rise. We do this by removing a one-year moving average, centered on the\n",
        "data point, per the recommendation of Arns et al. (2013)."
      ],
      "id": "6d04623c-0a77-4724-9d25-75b5f74d6464"
    },
    {
      "cell_type": "code",
      "execution_count": 1,
      "metadata": {},
      "outputs": [],
      "source": [
        "# calculate the moving average and subtract it off\n",
        "ma_length = 366\n",
        "ma_offset = Int(floor(ma_length/2))\n",
        "moving_average(series,n) = [mean(@view series[i-n:i+n]) for i in n+1:length(series)-n]\n",
        "dat_ma = DataFrame(datetime=dat.datetime[ma_offset+1:end-ma_offset], residual=dat.gauge[ma_offset+1:end-ma_offset] .- moving_average(dat.gauge, ma_offset))\n",
        "\n",
        "# plot\n",
        "@df dat_ma plot(:datetime, :residual, label=\"Detrended Observations\", bottom_margin=9mm)\n",
        "xaxis!(\"Date\", xrot=30)\n",
        "yaxis!(\"Mean Water Level\")"
      ],
      "id": "cell-fig-data-detrend"
    },
    {
      "cell_type": "markdown",
      "metadata": {},
      "source": [
        "The last step in preparing the data is to find the annual maxima. We can\n",
        "do this using the `groupby`, `transform`, and `combine` functions from\n",
        "`DataFrames.jl`, as below."
      ],
      "id": "f8514ea7-d16a-4397-9954-0e601105f10d"
    },
    {
      "cell_type": "code",
      "execution_count": 1,
      "metadata": {},
      "outputs": [],
      "source": [
        "# calculate the annual maxima\n",
        "dat_ma = dropmissing(dat_ma)\n",
        "dat_annmax = combine(dat_ma -> dat_ma[argmax(dat_ma.residual), :],\n",
        "                groupby(DataFrames.transform(dat_ma, :datetime => x->year.(x)), :datetime_function))\n",
        "delete!(dat_annmax, nrow(dat_annmax))\n",
        "\n",
        "# make a histogram of the maxima to see the distribution\n",
        "histogram(dat_annmax.residual, label=false)\n",
        "ylabel!(\"Count\")\n",
        "xlabel!(\"Mean Water Level (mm)\")"
      ],
      "id": "cell-fig-annmax-histogram"
    },
    {
      "cell_type": "markdown",
      "metadata": {},
      "source": [
        "### Fit The Model"
      ],
      "id": "479e2fa1-2158-41f7-84f5-14486ad04f16"
    },
    {
      "cell_type": "code",
      "execution_count": 1,
      "metadata": {},
      "outputs": [
        {
          "output_type": "display_data",
          "metadata": {},
          "data": {
            "text/html": [
              "<pre>Chains MCMC chain (5000×15×4 Array{Float64, 3}):\n",
              "\n",
              "Iterations        = 1001:1:6000\n",
              "Number of chains  = 4\n",
              "Samples per chain = 5000\n",
              "Wall duration     = 6.63 seconds\n",
              "Compute duration  = 6.13 seconds\n",
              "parameters        = μ, σ, ξ\n",
              "internals         = lp, n_steps, is_accept, acceptance_rate, log_density, hamiltonian_energy, hamiltonian_energy_error, max_hamiltonian_energy_error, tree_depth, numerical_error, step_size, nom_step_size\n",
              "\n",
              "Summary Statistics\n",
              " <span class=\"ansi-bold\"> parameters </span> <span class=\"ansi-bold\">      mean </span> <span class=\"ansi-bold\">     std </span> <span class=\"ansi-bold\">    mcse </span> <span class=\"ansi-bold\">   ess_bulk </span> <span class=\"ansi-bold\">   ess_tail </span> <span class=\"ansi-bold\">    rh</span> ⋯\n",
              " <span class=\"ansi-bright-black-fg\">     Symbol </span> <span class=\"ansi-bright-black-fg\">   Float64 </span> <span class=\"ansi-bright-black-fg\"> Float64 </span> <span class=\"ansi-bright-black-fg\"> Float64 </span> <span class=\"ansi-bright-black-fg\">    Float64 </span> <span class=\"ansi-bright-black-fg\">    Float64 </span> <span class=\"ansi-bright-black-fg\"> Float</span> ⋯\n",
              "\n",
              "           μ   1257.8434    5.6421    0.0489   13375.4301   11521.3394    1.00 ⋯\n",
              "           σ     57.2113    4.2214    0.0363   13619.4235   13686.7664    1.00 ⋯\n",
              "           ξ      0.0295    0.0625    0.0005   14332.1783   11774.3672    1.00 ⋯\n",
              "<span class=\"ansi-cyan-fg\">                                                               2 columns omitted</span>\n",
              "\n",
              "Quantiles\n",
              " <span class=\"ansi-bold\"> parameters </span> <span class=\"ansi-bold\">      2.5% </span> <span class=\"ansi-bold\">     25.0% </span> <span class=\"ansi-bold\">     50.0% </span> <span class=\"ansi-bold\">     75.0% </span> <span class=\"ansi-bold\">     97.5% </span>\n",
              " <span class=\"ansi-bright-black-fg\">     Symbol </span> <span class=\"ansi-bright-black-fg\">   Float64 </span> <span class=\"ansi-bright-black-fg\">   Float64 </span> <span class=\"ansi-bright-black-fg\">   Float64 </span> <span class=\"ansi-bright-black-fg\">   Float64 </span> <span class=\"ansi-bright-black-fg\">   Float64 </span>\n",
              "\n",
              "           μ   1246.9789   1254.0379   1257.7738   1261.5762   1269.0232\n",
              "           σ     49.5961     54.2510     57.0043     59.8866     66.0566\n",
              "           ξ     -0.0814     -0.0150      0.0258      0.0693      0.1629\n",
              "</pre>"
            ]
          }
        }
      ],
      "source": [
        "@model function gev_annmax(y)               \n",
        "    μ ~ Normal(1000, 100)\n",
        "    σ ~ truncated(Normal(0, 100); lower=0)\n",
        "    ξ ~ Normal(0, 0.5)\n",
        "\n",
        "    y ~ GeneralizedExtremeValue(μ, σ, ξ)\n",
        "end\n",
        "\n",
        "gev_model = gev_annmax(dat_annmax.residual)\n",
        "n_chains = 4\n",
        "n_per_chain = 5000\n",
        "gev_chain = sample(gev_model, NUTS(), MCMCThreads(), n_per_chain, n_chains; drop_warmup=true)\n",
        "@show gev_chain"
      ],
      "id": "38"
    },
    {
      "cell_type": "code",
      "execution_count": 1,
      "metadata": {},
      "outputs": [],
      "source": [
        "plot(gev_chain)"
      ],
      "id": "cell-fig-gev-traceplot"
    },
    {
      "cell_type": "markdown",
      "metadata": {},
      "source": [
        "From <a href=\"#fig-gev-traceplot\" class=\"quarto-xref\">Figure 8</a>, it\n",
        "looks like all of the chains have converged to the same distribution;\n",
        "the Gelman-Rubin diagnostic is also close to 1 for all parameters. Next,\n",
        "we can look at a corner plot to see how the parameters are correlated."
      ],
      "id": "5f4a1588-5093-4001-b032-7b238b8f1151"
    },
    {
      "cell_type": "code",
      "execution_count": 1,
      "metadata": {},
      "outputs": [],
      "source": [
        "corner(gev_chain)"
      ],
      "id": "cell-fig-gev-corner"
    },
    {
      "cell_type": "markdown",
      "metadata": {},
      "source": [
        "<a href=\"#fig-gev-corner\" class=\"quarto-xref\">Figure 9</a> suggests that\n",
        "the location and scale parameters $\\mu$ and $\\sigma$ are positively\n",
        "correlated. This makes some intuitive sense, as increasing the location\n",
        "parameter shifts the bulk of the distribution in a positive direction,\n",
        "and the increasing scale parameter then increases the likelihood of\n",
        "lower values. However, if these parameters are increased, the shape\n",
        "parameter $\\xi$ decreases, as the tail of the GEV does not need to be as\n",
        "thick due to the increased proximity of outliers to the bulk.\n",
        "\n",
        "Arns, A., Wahl, T., Haigh, I. D., Jensen, J., & Pattiaratchi, C. (2013).\n",
        "<span class=\"nocase\">Estimating extreme water level probabilities: A\n",
        "comparison of the direct methods and recommendations for best\n",
        "practise</span>. *Coast. Eng.*, *81*, 51–66.\n",
        "<https://doi.org/10.1016/j.coastaleng.2013.07.003>\n",
        "\n",
        "Caldwell, P. C., Merrifield, M. A., & Thompson, P. R. (2015). Sea level\n",
        "measured by tide gauges from global oceans — the joint archive for sea\n",
        "level holdings (NCEI accession 0019568). NOAA National Centers for\n",
        "Environmental Information (NCEI). <https://doi.org/10.7289/V5V40S7W>\n",
        "\n",
        "Gelman, A. (2006). Prior distributions for variance parameters in\n",
        "hierarchical models (comment on article by Browne and Draper). *Bayesian\n",
        "Anal.*, *1*(3), 515–533. <https://doi.org/10.1214/06-BA117A>\n",
        "\n",
        "Hoffman, M. D., & Gelman, A. (2014). The No-U-Turn sampler: Adaptively\n",
        "setting path lengths in Hamiltonian Monte Carlo. *J. Mach. Learn. Res.*,\n",
        "*15*(47), 1593–1623."
      ],
      "id": "9f126c33-eaf5-4562-bf70-eb3784d6a943"
    }
  ],
  "nbformat": 4,
  "nbformat_minor": 5,
  "metadata": {
    "kernel_info": {
      "name": "julia"
    },
    "kernelspec": {
      "name": "julia",
      "display_name": "Julia",
      "language": "julia"
    },
    "language_info": {
      "name": "julia",
      "codemirror_mode": "julia",
      "version": "1.9.4"
    }
  }
}