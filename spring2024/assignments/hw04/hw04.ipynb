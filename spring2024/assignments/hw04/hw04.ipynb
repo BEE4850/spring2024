{
  "cells": [
    {
      "cell_type": "markdown",
      "metadata": {},
      "source": [
        "# Homework 4: The Bootstrap\n",
        "\n",
        "BEE 4850/5850, Fall 2025\n",
        "\n",
        "**Name**:\n",
        "\n",
        "**ID**:\n",
        "\n",
        "> **Due Date**\n",
        ">\n",
        "> Friday, 3/28/25, 9:00pm\n",
        "\n",
        "## Overview"
      ],
      "id": "bd780bd9-655d-43d0-a414-5a43950051b2"
    },
    {
      "cell_type": "markdown",
      "metadata": {},
      "source": [
        "### Instructions\n",
        "\n",
        "The goal of this homework assignment is to practice simulation-based\n",
        "uncertainty quantification, focusing on the bootstrap.\n",
        "\n",
        "-   Problem 1 asks you to use the non-parametric bootstrap to estimate\n",
        "    uncertainty in a Poisson regression model.\n",
        "-   Problem 2 asks you to use the bootstrap (through resampling\n",
        "    residuals) to estimate uncertainty in a semi-empirical sea-level\n",
        "    rise model.\n",
        "-   Problem 3 (only required for students in BEE 5850) asks you to use a\n",
        "    moving block bootstrap to estimate the sampling distribution of the\n",
        "    median of extreme water level data.\n",
        "\n",
        "### Load Environment\n",
        "\n",
        "The following code loads the environment and makes sure all needed\n",
        "packages are installed. This should be at the start of most Julia\n",
        "scripts."
      ],
      "id": "18c84f82-24e9-4f3c-94c5-697081ebb018"
    },
    {
      "cell_type": "code",
      "execution_count": 1,
      "metadata": {},
      "outputs": [],
      "source": [
        "import Pkg\n",
        "Pkg.activate(@__DIR__)\n",
        "Pkg.instantiate()"
      ],
      "id": "2"
    },
    {
      "cell_type": "markdown",
      "metadata": {},
      "source": [
        "The following packages are included in the environment (to help you find\n",
        "other similar packages in other languages). The code below loads these\n",
        "packages for use in the subsequent notebook (the desired functionality\n",
        "for each package is commented next to the package)."
      ],
      "id": "8b623f0f-3ee2-4331-bcfe-cce82a496c8f"
    },
    {
      "cell_type": "code",
      "execution_count": 1,
      "metadata": {},
      "outputs": [],
      "source": [
        "using Random # random number generation and seed-setting\n",
        "using DataFrames # tabular data structure\n",
        "using DataFramesMeta # API which can simplify chains of DataFrames transformations\n",
        "using CSV # reads/writes .csv files\n",
        "using Distributions # interface to work with probability distributions\n",
        "using Plots # plotting library\n",
        "using StatsBase # statistical quantities like mean, median, etc\n",
        "using StatsPlots # some additional statistical plotting tools"
      ],
      "id": "4"
    },
    {
      "cell_type": "markdown",
      "metadata": {},
      "source": [
        "## Problems\n",
        "\n",
        "### Scoring\n",
        "\n",
        "-   Problem 1 is worth 10 points;\n",
        "-   Problem 2 is worth 10 points;\n",
        "-   Problem 3 is worth 5 points;\n",
        "\n",
        "### Problem 1\n",
        "\n",
        "Revisit the salamander model from [Homework\n",
        "2](https://viveks.me/simulation-data-analysis/hw/hw02.html), using\n",
        "percent groundcover as a predictor in the Poisson regression. Use the\n",
        "non-parametric bootstrap to estimate bias and confidence intervals for\n",
        "the model parameters.\n",
        "\n",
        "**In this problem**:\n",
        "\n",
        "-   Load the data from `data/salamanders.csv`.\n",
        "-   Fit a Poisson regression model for salamander counts using the\n",
        "    percentage of ground cover.\n",
        "-   Use 1,000 non-parametric bootstrap samples to obtain estimates of\n",
        "    bias and the 90% confidence interval for the intercept and\n",
        "    coefficient in the Poisson regression.\n",
        "\n",
        "### Problem 2\n",
        "\n",
        "Revisit the sea-level rise model from [Homework\n",
        "2](https://viveks.me/simulation-data-analysis/hw/hw02.html):\n",
        "\n",
        "$$\\begin{aligned}\n",
        "\\frac{dS}{dt} &= \\frac{S_\\text{eq} - S}{\\tau} \\\\\n",
        "S_\\text{eq} &= aT + b,\n",
        "\\end{aligned}\n",
        "$$\n",
        "\n",
        "where\n",
        "\n",
        "-   $S(t)$ is the global mean sea level (in mm) at time $t$;\n",
        "-   $\\tau$ is the response time of sea level (in yrs);\n",
        "-   $S_\\text{eq}$ is the equilibrium sea-level (in mm) at temperature\n",
        "    $T$ (in $^\\circ$C);\n",
        "-   $a$ is the sensitivity of $S_\\text{eq}$ to $T$ (in mm/$^\\circ$C);\n",
        "-   $b$ is the intercept of $S_\\text{eq}$, or the $S_\\text{eq}$ when\n",
        "    $T=0^\\circ$C (in mm).\n",
        "\n",
        "We would like to quantify uncertainty in the model parameters using the\n",
        "bootstrap.\n",
        "\n",
        "**In this problem**:\n",
        "\n",
        "-   Load the data from the `data/` folder and, following Grinsted et al\n",
        "    (2010), normalize both datasets to the 1980-1999 mean (subtract that\n",
        "    mean from the data).\n",
        "    -   Global mean temperature data from the HadCRUT 5.0.2.0 dataset\n",
        "        (<https://hadobs.metoffice.gov.uk/hadcrut5/data/HadCRUT.5.0.2.0/download.html>)\n",
        "        can be found in\n",
        "        `data/HadCRUT.5.0.2.0.analysis.summary_series.global.annual.csv`.\n",
        "        This data is averaged over the Northern and Southern Hemispheres\n",
        "        and over the whole year.\n",
        "    -   Global mean sea level anomalies (relative to the 1990 mean\n",
        "        global sea level) are in `data/CSIRO_Recons_gmsl_yr_2015.csv`,\n",
        "        courtesy of CSIRO\n",
        "        (<https://www.cmar.csiro.au/sealevel/sl_data_cmar.html>). The\n",
        "        standard deviation of the estimate is also added for each year.\n",
        "-   Write a function to simulate global mean sea levels under a set of\n",
        "    model parameters after discretizing the equations above with a\n",
        "    timestep of $\\delta t = 1$ yr. You will need to subset the\n",
        "    temperature data to the years where you also have sea-level data and\n",
        "    include an initial sea-level parameter $S_0$. This will be similar\n",
        "    to the model from Homework 2. Fit this model to the data with AR(1)\n",
        "    residuals.\n",
        "-   Use your fitted model and the AR(1) residual process to generate\n",
        "    1,000 parametric bootstrap samples. Refit the model to each. Plot\n",
        "    histograms of the bootstrap samples for each parameter. What is the\n",
        "    90% confidence interval for the sensitivity of sea level to global\n",
        "    mean temperature?\n",
        "\n",
        "### Problem 3\n",
        "\n",
        "Let’s revisit the 2015 Sewell’s Point tide gauge data, which consists of\n",
        "hourly observations and predicted sea-level based on NOAA’s harmonic\n",
        "model."
      ],
      "id": "b7ca773e-b18d-4ef8-b275-ca647b36de0f"
    },
    {
      "cell_type": "code",
      "execution_count": 1,
      "metadata": {},
      "outputs": [],
      "source": [
        "function load_data(fname)\n",
        "    date_format = \"yyyy-mm-dd HH:MM\"\n",
        "    # this uses the DataFramesMeta package -- it's pretty cool\n",
        "    return @chain fname begin\n",
        "        CSV.File(; dateformat=date_format)\n",
        "        DataFrame\n",
        "        rename(\n",
        "            \"Time (GMT)\" => \"time\", \"Predicted (m)\" => \"harmonic\", \"Verified (m)\" => \"gauge\"\n",
        "        )\n",
        "        @transform :datetime = (Date.(:Date, \"yyyy/mm/dd\") + Time.(:time))\n",
        "        select(:datetime, :gauge, :harmonic)\n",
        "        @transform :weather = :gauge - :harmonic\n",
        "        @transform :month = (month.(:datetime))\n",
        "    end\n",
        "end\n",
        "\n",
        "dat = load_data(\"data/norfolk-hourly-surge-2015.csv\")\n",
        "\n",
        "plot(dat.datetime, dat.gauge; ylabel=\"Gauge Measurement (m)\", label=\"Observed\", legend=:topleft, xlabel=\"Date/Time\", color=:blue)\n",
        "plot!(dat.datetime, dat.harmonic, label=\"Prediction\", color=:orange)"
      ],
      "id": "6"
    },
    {
      "cell_type": "markdown",
      "metadata": {},
      "source": [
        "We detrend the data to isolate the weather-induced variability by\n",
        "subtracting the predictions from the observations; the results\n",
        "(following the Julia code) are in `dat[:, :weather]`."
      ],
      "id": "1fb24389-3de5-4ed2-9f89-e51ce0005d7f"
    },
    {
      "cell_type": "code",
      "execution_count": 1,
      "metadata": {},
      "outputs": [],
      "source": [
        "plot(dat.datetime, dat.weather; ylabel=\"Gauge Weather Variability (m)\", label=\"Detrended Data\", linewidth=1, legend=:topleft, xlabel=\"Date/Time\")"
      ],
      "id": "8"
    },
    {
      "cell_type": "markdown",
      "metadata": {},
      "source": [
        "We would like to understand the uncertainty in an estimate of the median\n",
        "sea level.\n",
        "\n",
        "**In this problem**:\n",
        "\n",
        "-   Construct 1,000 bootstrap replicates by adding a moving block\n",
        "    bootstrap replicate from the weather-induced variability series\n",
        "    (with block length 20) to the harmonic prediction. Use these\n",
        "    replicates to compute a 90% confidence interval. What is the bias of\n",
        "    the estimator?\n",
        "-   Repeat the analysis with block length 50. How does this affect the\n",
        "    confidence intervals and estimate of bias?\n",
        "-   Why do you think using different block lengths produced the results\n",
        "    that they did?"
      ],
      "id": "8a1006dd-13ac-4590-b447-d33c443858aa"
    }
  ],
  "nbformat": 4,
  "nbformat_minor": 5,
  "metadata": {
    "kernel_info": {
      "name": "julia"
    },
    "kernelspec": {
      "name": "julia",
      "display_name": "Julia",
      "language": "julia"
    },
    "language_info": {
      "name": "julia",
      "codemirror_mode": "julia",
      "version": "1.10.4"
    }
  }
}