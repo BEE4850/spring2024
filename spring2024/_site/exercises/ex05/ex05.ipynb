{
  "cells": [
    {
      "cell_type": "markdown",
      "metadata": {},
      "source": [
        "# Exercise Set 05: Good and Bad Visualizations\n",
        "\n",
        "BEE 4850/5850, Fall 2024\n",
        "\n",
        "**Name**:\n",
        "\n",
        "**ID**:\n",
        "\n",
        "> **Due Date**\n",
        ">\n",
        "> Friday, 2/23/24, 9:00pm\n",
        "\n",
        "## Overview"
      ],
      "id": "9ad9fe18-c5f0-463c-bf5e-6043c91982ab"
    },
    {
      "cell_type": "markdown",
      "metadata": {},
      "source": [
        "### Instructions\n",
        "\n",
        "The goal of this exercise is for you to find and evaluate data\n",
        "visualizations which you think do a particularly good and bad job."
      ],
      "id": "5019f18c-4bfb-49c7-a9b3-2facf8ca6da9"
    },
    {
      "cell_type": "markdown",
      "metadata": {},
      "source": [
        "### Load Environment\n",
        "\n",
        "The following code loads the environment and makes sure all needed\n",
        "packages are installed. This should be at the start of most Julia\n",
        "scripts."
      ],
      "id": "c0ab2201-1462-48b2-9e6b-29e841b0cc8a"
    },
    {
      "cell_type": "code",
      "execution_count": 1,
      "metadata": {},
      "outputs": [],
      "source": [
        "import Pkg\n",
        "Pkg.activate(@__DIR__)\n",
        "Pkg.instantiate()"
      ],
      "id": "2"
    },
    {
      "cell_type": "markdown",
      "metadata": {},
      "source": [
        "The following packages are included in the environment (to help you find\n",
        "other similar packages in other languages). The code below loads these\n",
        "packages for use in the subsequent notebook (the desired functionality\n",
        "for each package is commented next to the package)."
      ],
      "id": "5b54e456-4fe9-460c-a3db-3186cb4677b0"
    },
    {
      "cell_type": "code",
      "execution_count": 1,
      "metadata": {},
      "outputs": [],
      "source": [
        "using DataFrames # tabular data structure\n",
        "using CSVFiles # reads/writes .csv files\n",
        "using Plots # plotting library\n",
        "using StatsBase # statistical quantities like mean, median, etc\n",
        "using StatsPlots # some additional statistical plotting tools"
      ],
      "id": "4"
    },
    {
      "cell_type": "markdown",
      "metadata": {},
      "source": [
        "## Problem\n",
        "\n",
        "Find an example of a data visualization (could be from any reasonable\n",
        "source: journalism, a scientific paper, generated from data) that you\n",
        "think does a particularly good job of communicating something about the\n",
        "underlying data, and one which does a particularly bad job. Write a\n",
        "brief summary (one paragraph) for each about what the visualization is\n",
        "trying to communicate and what makes it (in)effective. Make sure to\n",
        "include where I can find a raw version of the figure (or if you\n",
        "generated it yourself) which is higher-resolution for use in the class\n",
        "discussion next week."
      ],
      "id": "ee75f8b5-87b3-4d74-9465-7e46e9d3e188"
    },
    {
      "cell_type": "markdown",
      "metadata": {},
      "source": [
        "## References"
      ],
      "id": "afd35fa7-9a35-4e36-8a64-4668fb139b5b"
    }
  ],
  "nbformat": 4,
  "nbformat_minor": 5,
  "metadata": {
    "kernel_info": {
      "name": "julia"
    },
    "kernelspec": {
      "name": "julia",
      "display_name": "Julia",
      "language": "julia"
    },
    "language_info": {
      "name": "julia",
      "codemirror_mode": "julia",
      "version": "1.10.4"
    }
  }
}